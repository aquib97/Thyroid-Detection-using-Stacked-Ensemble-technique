{
 "cells": [
  {
   "cell_type": "markdown",
   "metadata": {},
   "source": [
    "# Project name: Thydriod detecting using "
   ]
  },
  {
   "cell_type": "markdown",
   "metadata": {},
   "source": [
    "### All steps performed in this project\n",
    "1. Spilting the original data in Training and Testing sets\n",
    "2. Data analysis\n",
    "3. Feature Engineering\n",
    "4. Feature Importance\n",
    "5. Test data (processed)\n",
    "6. Spliting of training dataset\n",
    "5. Model fitting using Staked Generaization\n",
    "6. Hyperparameter tuning\n",
    "7. Prediction with test data set"
   ]
  },
  {
   "cell_type": "code",
   "execution_count": 105,
   "metadata": {},
   "outputs": [],
   "source": [
    "#Importing all libraries\n",
    "\n",
    "import pandas as pd\n",
    "import numpy as np\n",
    "import matplotlib.pyplot as plt\n",
    "import seaborn as sns\n",
    "import scipy.stats as stat    \n",
    "import pylab\n",
    "%matplotlib inline\n",
    "sns.set()\n",
    "\n",
    "\n",
    "from sklearn.model_selection import train_test_split, GridSearchCV\n",
    "from sklearn.preprocessing import LabelEncoder\n",
    "from imblearn.over_sampling import  RandomOverSampler\n",
    "from sklearn.ensemble import ExtraTreesRegressor\n",
    "from sklearn.model_selection import train_test_split\n",
    "\n",
    "from sklearn.neighbors import KNeighborsClassifier\n",
    "from sklearn.svm import SVC\n",
    "from sklearn.ensemble import RandomForestClassifier\n",
    "from sklearn import metrics\n",
    "\n",
    "import pickle"
   ]
  },
  {
   "cell_type": "code",
   "execution_count": 2,
   "metadata": {},
   "outputs": [],
   "source": [
    "#Setting to read all data columns in the Data set\n",
    "pd.set_option(\"display.max_columns\",None)"
   ]
  },
  {
   "cell_type": "code",
   "execution_count": 3,
   "metadata": {},
   "outputs": [],
   "source": [
    "#Reading the given dataset\n",
    "df=pd.read_csv(\"hypothyroid.csv\")"
   ]
  },
  {
   "cell_type": "markdown",
   "metadata": {},
   "source": [
    "### Splitting dataset to Train and Test data"
   ]
  },
  {
   "cell_type": "code",
   "execution_count": 4,
   "metadata": {},
   "outputs": [],
   "source": [
    "#To avoid any data leakage we are going to split and perform required steps\n",
    "data,test=train_test_split(df,test_size=0.2, random_state=55)"
   ]
  },
  {
   "cell_type": "code",
   "execution_count": 5,
   "metadata": {},
   "outputs": [],
   "source": [
    "#Saving the training and testing datasets in csv file repectively\n",
    "data.to_csv(\"data.csv\")\n",
    "test.to_csv(\"test.csv\")"
   ]
  },
  {
   "cell_type": "code",
   "execution_count": 6,
   "metadata": {},
   "outputs": [
    {
     "data": {
      "text/html": [
       "<div>\n",
       "<style scoped>\n",
       "    .dataframe tbody tr th:only-of-type {\n",
       "        vertical-align: middle;\n",
       "    }\n",
       "\n",
       "    .dataframe tbody tr th {\n",
       "        vertical-align: top;\n",
       "    }\n",
       "\n",
       "    .dataframe thead th {\n",
       "        text-align: right;\n",
       "    }\n",
       "</style>\n",
       "<table border=\"1\" class=\"dataframe\">\n",
       "  <thead>\n",
       "    <tr style=\"text-align: right;\">\n",
       "      <th></th>\n",
       "      <th>Unnamed: 0</th>\n",
       "      <th>age</th>\n",
       "      <th>sex</th>\n",
       "      <th>on_thyroxine</th>\n",
       "      <th>query_on_thyroxine</th>\n",
       "      <th>on_antithyroid_medication</th>\n",
       "      <th>sick</th>\n",
       "      <th>pregnant</th>\n",
       "      <th>thyroid_surgery</th>\n",
       "      <th>I131_treatment</th>\n",
       "      <th>query_hypothyroid</th>\n",
       "      <th>query_hyperthyroid</th>\n",
       "      <th>lithium</th>\n",
       "      <th>goitre</th>\n",
       "      <th>tumor</th>\n",
       "      <th>hypopituitary</th>\n",
       "      <th>psych</th>\n",
       "      <th>TSH_measured</th>\n",
       "      <th>TSH</th>\n",
       "      <th>T3_measured</th>\n",
       "      <th>T3</th>\n",
       "      <th>TT4_measured</th>\n",
       "      <th>TT4</th>\n",
       "      <th>T4U_measured</th>\n",
       "      <th>T4U</th>\n",
       "      <th>FTI_measured</th>\n",
       "      <th>FTI</th>\n",
       "      <th>TBG_measured</th>\n",
       "      <th>TBG</th>\n",
       "      <th>referral_source</th>\n",
       "      <th>Class</th>\n",
       "    </tr>\n",
       "  </thead>\n",
       "  <tbody>\n",
       "    <tr>\n",
       "      <th>0</th>\n",
       "      <td>739</td>\n",
       "      <td>74</td>\n",
       "      <td>M</td>\n",
       "      <td>f</td>\n",
       "      <td>f</td>\n",
       "      <td>f</td>\n",
       "      <td>f</td>\n",
       "      <td>f</td>\n",
       "      <td>f</td>\n",
       "      <td>f</td>\n",
       "      <td>f</td>\n",
       "      <td>f</td>\n",
       "      <td>f</td>\n",
       "      <td>f</td>\n",
       "      <td>f</td>\n",
       "      <td>f</td>\n",
       "      <td>t</td>\n",
       "      <td>t</td>\n",
       "      <td>1.3</td>\n",
       "      <td>t</td>\n",
       "      <td>1.8</td>\n",
       "      <td>t</td>\n",
       "      <td>96</td>\n",
       "      <td>t</td>\n",
       "      <td>1.06</td>\n",
       "      <td>t</td>\n",
       "      <td>90</td>\n",
       "      <td>f</td>\n",
       "      <td>?</td>\n",
       "      <td>SVHC</td>\n",
       "      <td>negative</td>\n",
       "    </tr>\n",
       "    <tr>\n",
       "      <th>1</th>\n",
       "      <td>3284</td>\n",
       "      <td>75</td>\n",
       "      <td>F</td>\n",
       "      <td>f</td>\n",
       "      <td>f</td>\n",
       "      <td>f</td>\n",
       "      <td>f</td>\n",
       "      <td>f</td>\n",
       "      <td>f</td>\n",
       "      <td>f</td>\n",
       "      <td>f</td>\n",
       "      <td>f</td>\n",
       "      <td>f</td>\n",
       "      <td>f</td>\n",
       "      <td>f</td>\n",
       "      <td>f</td>\n",
       "      <td>f</td>\n",
       "      <td>t</td>\n",
       "      <td>0.33</td>\n",
       "      <td>t</td>\n",
       "      <td>1.8</td>\n",
       "      <td>t</td>\n",
       "      <td>134</td>\n",
       "      <td>t</td>\n",
       "      <td>0.97</td>\n",
       "      <td>t</td>\n",
       "      <td>138</td>\n",
       "      <td>f</td>\n",
       "      <td>?</td>\n",
       "      <td>other</td>\n",
       "      <td>negative</td>\n",
       "    </tr>\n",
       "    <tr>\n",
       "      <th>2</th>\n",
       "      <td>3694</td>\n",
       "      <td>31</td>\n",
       "      <td>F</td>\n",
       "      <td>f</td>\n",
       "      <td>f</td>\n",
       "      <td>f</td>\n",
       "      <td>f</td>\n",
       "      <td>f</td>\n",
       "      <td>f</td>\n",
       "      <td>f</td>\n",
       "      <td>f</td>\n",
       "      <td>f</td>\n",
       "      <td>f</td>\n",
       "      <td>f</td>\n",
       "      <td>f</td>\n",
       "      <td>f</td>\n",
       "      <td>f</td>\n",
       "      <td>t</td>\n",
       "      <td>3.4</td>\n",
       "      <td>f</td>\n",
       "      <td>?</td>\n",
       "      <td>t</td>\n",
       "      <td>104</td>\n",
       "      <td>t</td>\n",
       "      <td>0.94</td>\n",
       "      <td>t</td>\n",
       "      <td>112</td>\n",
       "      <td>f</td>\n",
       "      <td>?</td>\n",
       "      <td>STMW</td>\n",
       "      <td>negative</td>\n",
       "    </tr>\n",
       "    <tr>\n",
       "      <th>3</th>\n",
       "      <td>1157</td>\n",
       "      <td>34</td>\n",
       "      <td>F</td>\n",
       "      <td>f</td>\n",
       "      <td>f</td>\n",
       "      <td>f</td>\n",
       "      <td>f</td>\n",
       "      <td>f</td>\n",
       "      <td>f</td>\n",
       "      <td>f</td>\n",
       "      <td>f</td>\n",
       "      <td>f</td>\n",
       "      <td>f</td>\n",
       "      <td>f</td>\n",
       "      <td>f</td>\n",
       "      <td>f</td>\n",
       "      <td>f</td>\n",
       "      <td>f</td>\n",
       "      <td>?</td>\n",
       "      <td>f</td>\n",
       "      <td>?</td>\n",
       "      <td>f</td>\n",
       "      <td>?</td>\n",
       "      <td>f</td>\n",
       "      <td>?</td>\n",
       "      <td>f</td>\n",
       "      <td>?</td>\n",
       "      <td>f</td>\n",
       "      <td>?</td>\n",
       "      <td>other</td>\n",
       "      <td>negative</td>\n",
       "    </tr>\n",
       "    <tr>\n",
       "      <th>4</th>\n",
       "      <td>1650</td>\n",
       "      <td>36</td>\n",
       "      <td>M</td>\n",
       "      <td>f</td>\n",
       "      <td>f</td>\n",
       "      <td>f</td>\n",
       "      <td>f</td>\n",
       "      <td>f</td>\n",
       "      <td>f</td>\n",
       "      <td>f</td>\n",
       "      <td>f</td>\n",
       "      <td>f</td>\n",
       "      <td>f</td>\n",
       "      <td>f</td>\n",
       "      <td>f</td>\n",
       "      <td>f</td>\n",
       "      <td>t</td>\n",
       "      <td>t</td>\n",
       "      <td>2.2</td>\n",
       "      <td>t</td>\n",
       "      <td>1.7</td>\n",
       "      <td>t</td>\n",
       "      <td>115</td>\n",
       "      <td>t</td>\n",
       "      <td>0.98</td>\n",
       "      <td>t</td>\n",
       "      <td>118</td>\n",
       "      <td>f</td>\n",
       "      <td>?</td>\n",
       "      <td>SVHC</td>\n",
       "      <td>negative</td>\n",
       "    </tr>\n",
       "  </tbody>\n",
       "</table>\n",
       "</div>"
      ],
      "text/plain": [
       "   Unnamed: 0 age sex on_thyroxine query_on_thyroxine  \\\n",
       "0         739  74   M            f                  f   \n",
       "1        3284  75   F            f                  f   \n",
       "2        3694  31   F            f                  f   \n",
       "3        1157  34   F            f                  f   \n",
       "4        1650  36   M            f                  f   \n",
       "\n",
       "  on_antithyroid_medication sick pregnant thyroid_surgery I131_treatment  \\\n",
       "0                         f    f        f               f              f   \n",
       "1                         f    f        f               f              f   \n",
       "2                         f    f        f               f              f   \n",
       "3                         f    f        f               f              f   \n",
       "4                         f    f        f               f              f   \n",
       "\n",
       "  query_hypothyroid query_hyperthyroid lithium goitre tumor hypopituitary  \\\n",
       "0                 f                  f       f      f     f             f   \n",
       "1                 f                  f       f      f     f             f   \n",
       "2                 f                  f       f      f     f             f   \n",
       "3                 f                  f       f      f     f             f   \n",
       "4                 f                  f       f      f     f             f   \n",
       "\n",
       "  psych TSH_measured   TSH T3_measured   T3 TT4_measured  TT4 T4U_measured  \\\n",
       "0     t            t   1.3           t  1.8            t   96            t   \n",
       "1     f            t  0.33           t  1.8            t  134            t   \n",
       "2     f            t   3.4           f    ?            t  104            t   \n",
       "3     f            f     ?           f    ?            f    ?            f   \n",
       "4     t            t   2.2           t  1.7            t  115            t   \n",
       "\n",
       "    T4U FTI_measured  FTI TBG_measured TBG referral_source     Class  \n",
       "0  1.06            t   90            f   ?            SVHC  negative  \n",
       "1  0.97            t  138            f   ?           other  negative  \n",
       "2  0.94            t  112            f   ?            STMW  negative  \n",
       "3     ?            f    ?            f   ?           other  negative  \n",
       "4  0.98            t  118            f   ?            SVHC  negative  "
      ]
     },
     "execution_count": 6,
     "metadata": {},
     "output_type": "execute_result"
    }
   ],
   "source": [
    "#Reading the training data\n",
    "data=pd.read_csv(\"data.csv\")\n",
    "data.head()"
   ]
  },
  {
   "cell_type": "markdown",
   "metadata": {},
   "source": [
    "# Data Analysis"
   ]
  },
  {
   "cell_type": "code",
   "execution_count": 7,
   "metadata": {},
   "outputs": [
    {
     "data": {
      "text/plain": [
       "(3017, 31)"
      ]
     },
     "execution_count": 7,
     "metadata": {},
     "output_type": "execute_result"
    }
   ],
   "source": [
    "#Checking the shape\n",
    "data.shape"
   ]
  },
  {
   "cell_type": "code",
   "execution_count": 8,
   "metadata": {
    "scrolled": true
   },
   "outputs": [
    {
     "name": "stdout",
     "output_type": "stream",
     "text": [
      "<class 'pandas.core.frame.DataFrame'>\n",
      "RangeIndex: 3017 entries, 0 to 3016\n",
      "Data columns (total 31 columns):\n",
      " #   Column                     Non-Null Count  Dtype \n",
      "---  ------                     --------------  ----- \n",
      " 0   Unnamed: 0                 3017 non-null   int64 \n",
      " 1   age                        3017 non-null   object\n",
      " 2   sex                        3017 non-null   object\n",
      " 3   on_thyroxine               3017 non-null   object\n",
      " 4   query_on_thyroxine         3017 non-null   object\n",
      " 5   on_antithyroid_medication  3017 non-null   object\n",
      " 6   sick                       3017 non-null   object\n",
      " 7   pregnant                   3017 non-null   object\n",
      " 8   thyroid_surgery            3017 non-null   object\n",
      " 9   I131_treatment             3017 non-null   object\n",
      " 10  query_hypothyroid          3017 non-null   object\n",
      " 11  query_hyperthyroid         3017 non-null   object\n",
      " 12  lithium                    3017 non-null   object\n",
      " 13  goitre                     3017 non-null   object\n",
      " 14  tumor                      3017 non-null   object\n",
      " 15  hypopituitary              3017 non-null   object\n",
      " 16  psych                      3017 non-null   object\n",
      " 17  TSH_measured               3017 non-null   object\n",
      " 18  TSH                        3017 non-null   object\n",
      " 19  T3_measured                3017 non-null   object\n",
      " 20  T3                         3017 non-null   object\n",
      " 21  TT4_measured               3017 non-null   object\n",
      " 22  TT4                        3017 non-null   object\n",
      " 23  T4U_measured               3017 non-null   object\n",
      " 24  T4U                        3017 non-null   object\n",
      " 25  FTI_measured               3017 non-null   object\n",
      " 26  FTI                        3017 non-null   object\n",
      " 27  TBG_measured               3017 non-null   object\n",
      " 28  TBG                        3017 non-null   object\n",
      " 29  referral_source            3017 non-null   object\n",
      " 30  Class                      3017 non-null   object\n",
      "dtypes: int64(1), object(30)\n",
      "memory usage: 730.8+ KB\n"
     ]
    }
   ],
   "source": [
    "#Reading data description\n",
    "data.info()"
   ]
  },
  {
   "cell_type": "markdown",
   "metadata": {},
   "source": [
    "Here we can observe all the dtypes as object. A proper data analysis needs to be done and check the possibilities in data processing."
   ]
  },
  {
   "cell_type": "code",
   "execution_count": 9,
   "metadata": {
    "scrolled": true
   },
   "outputs": [
    {
     "data": {
      "text/html": [
       "<div>\n",
       "<style scoped>\n",
       "    .dataframe tbody tr th:only-of-type {\n",
       "        vertical-align: middle;\n",
       "    }\n",
       "\n",
       "    .dataframe tbody tr th {\n",
       "        vertical-align: top;\n",
       "    }\n",
       "\n",
       "    .dataframe thead th {\n",
       "        text-align: right;\n",
       "    }\n",
       "</style>\n",
       "<table border=\"1\" class=\"dataframe\">\n",
       "  <thead>\n",
       "    <tr style=\"text-align: right;\">\n",
       "      <th></th>\n",
       "      <th>Unnamed: 0</th>\n",
       "      <th>age</th>\n",
       "      <th>sex</th>\n",
       "      <th>on_thyroxine</th>\n",
       "      <th>query_on_thyroxine</th>\n",
       "      <th>on_antithyroid_medication</th>\n",
       "      <th>sick</th>\n",
       "      <th>pregnant</th>\n",
       "      <th>thyroid_surgery</th>\n",
       "      <th>I131_treatment</th>\n",
       "      <th>query_hypothyroid</th>\n",
       "      <th>query_hyperthyroid</th>\n",
       "      <th>lithium</th>\n",
       "      <th>goitre</th>\n",
       "      <th>tumor</th>\n",
       "      <th>hypopituitary</th>\n",
       "      <th>psych</th>\n",
       "      <th>TSH_measured</th>\n",
       "      <th>TSH</th>\n",
       "      <th>T3_measured</th>\n",
       "      <th>T3</th>\n",
       "      <th>TT4_measured</th>\n",
       "      <th>TT4</th>\n",
       "      <th>T4U_measured</th>\n",
       "      <th>T4U</th>\n",
       "      <th>FTI_measured</th>\n",
       "      <th>FTI</th>\n",
       "      <th>TBG_measured</th>\n",
       "      <th>TBG</th>\n",
       "      <th>referral_source</th>\n",
       "      <th>Class</th>\n",
       "    </tr>\n",
       "  </thead>\n",
       "  <tbody>\n",
       "    <tr>\n",
       "      <th>count</th>\n",
       "      <td>3017.000000</td>\n",
       "      <td>3017</td>\n",
       "      <td>3017</td>\n",
       "      <td>3017</td>\n",
       "      <td>3017</td>\n",
       "      <td>3017</td>\n",
       "      <td>3017</td>\n",
       "      <td>3017</td>\n",
       "      <td>3017</td>\n",
       "      <td>3017</td>\n",
       "      <td>3017</td>\n",
       "      <td>3017</td>\n",
       "      <td>3017</td>\n",
       "      <td>3017</td>\n",
       "      <td>3017</td>\n",
       "      <td>3017</td>\n",
       "      <td>3017</td>\n",
       "      <td>3017</td>\n",
       "      <td>3017</td>\n",
       "      <td>3017</td>\n",
       "      <td>3017</td>\n",
       "      <td>3017</td>\n",
       "      <td>3017</td>\n",
       "      <td>3017</td>\n",
       "      <td>3017</td>\n",
       "      <td>3017</td>\n",
       "      <td>3017</td>\n",
       "      <td>3017</td>\n",
       "      <td>3017</td>\n",
       "      <td>3017</td>\n",
       "      <td>3017</td>\n",
       "    </tr>\n",
       "    <tr>\n",
       "      <th>unique</th>\n",
       "      <td>NaN</td>\n",
       "      <td>93</td>\n",
       "      <td>3</td>\n",
       "      <td>2</td>\n",
       "      <td>2</td>\n",
       "      <td>2</td>\n",
       "      <td>2</td>\n",
       "      <td>2</td>\n",
       "      <td>2</td>\n",
       "      <td>2</td>\n",
       "      <td>2</td>\n",
       "      <td>2</td>\n",
       "      <td>2</td>\n",
       "      <td>2</td>\n",
       "      <td>2</td>\n",
       "      <td>2</td>\n",
       "      <td>2</td>\n",
       "      <td>2</td>\n",
       "      <td>274</td>\n",
       "      <td>2</td>\n",
       "      <td>65</td>\n",
       "      <td>2</td>\n",
       "      <td>233</td>\n",
       "      <td>2</td>\n",
       "      <td>141</td>\n",
       "      <td>2</td>\n",
       "      <td>218</td>\n",
       "      <td>1</td>\n",
       "      <td>1</td>\n",
       "      <td>5</td>\n",
       "      <td>4</td>\n",
       "    </tr>\n",
       "    <tr>\n",
       "      <th>top</th>\n",
       "      <td>NaN</td>\n",
       "      <td>60</td>\n",
       "      <td>F</td>\n",
       "      <td>f</td>\n",
       "      <td>f</td>\n",
       "      <td>f</td>\n",
       "      <td>f</td>\n",
       "      <td>f</td>\n",
       "      <td>f</td>\n",
       "      <td>f</td>\n",
       "      <td>f</td>\n",
       "      <td>f</td>\n",
       "      <td>f</td>\n",
       "      <td>f</td>\n",
       "      <td>f</td>\n",
       "      <td>f</td>\n",
       "      <td>f</td>\n",
       "      <td>t</td>\n",
       "      <td>?</td>\n",
       "      <td>t</td>\n",
       "      <td>?</td>\n",
       "      <td>t</td>\n",
       "      <td>?</td>\n",
       "      <td>t</td>\n",
       "      <td>?</td>\n",
       "      <td>t</td>\n",
       "      <td>?</td>\n",
       "      <td>f</td>\n",
       "      <td>?</td>\n",
       "      <td>other</td>\n",
       "      <td>negative</td>\n",
       "    </tr>\n",
       "    <tr>\n",
       "      <th>freq</th>\n",
       "      <td>NaN</td>\n",
       "      <td>78</td>\n",
       "      <td>1980</td>\n",
       "      <td>2645</td>\n",
       "      <td>2972</td>\n",
       "      <td>2982</td>\n",
       "      <td>2907</td>\n",
       "      <td>2977</td>\n",
       "      <td>2977</td>\n",
       "      <td>2968</td>\n",
       "      <td>2822</td>\n",
       "      <td>2825</td>\n",
       "      <td>3002</td>\n",
       "      <td>2988</td>\n",
       "      <td>2943</td>\n",
       "      <td>3016</td>\n",
       "      <td>2874</td>\n",
       "      <td>2721</td>\n",
       "      <td>296</td>\n",
       "      <td>2399</td>\n",
       "      <td>618</td>\n",
       "      <td>2829</td>\n",
       "      <td>188</td>\n",
       "      <td>2710</td>\n",
       "      <td>307</td>\n",
       "      <td>2712</td>\n",
       "      <td>305</td>\n",
       "      <td>3017</td>\n",
       "      <td>3017</td>\n",
       "      <td>1755</td>\n",
       "      <td>2788</td>\n",
       "    </tr>\n",
       "    <tr>\n",
       "      <th>mean</th>\n",
       "      <td>1888.575075</td>\n",
       "      <td>NaN</td>\n",
       "      <td>NaN</td>\n",
       "      <td>NaN</td>\n",
       "      <td>NaN</td>\n",
       "      <td>NaN</td>\n",
       "      <td>NaN</td>\n",
       "      <td>NaN</td>\n",
       "      <td>NaN</td>\n",
       "      <td>NaN</td>\n",
       "      <td>NaN</td>\n",
       "      <td>NaN</td>\n",
       "      <td>NaN</td>\n",
       "      <td>NaN</td>\n",
       "      <td>NaN</td>\n",
       "      <td>NaN</td>\n",
       "      <td>NaN</td>\n",
       "      <td>NaN</td>\n",
       "      <td>NaN</td>\n",
       "      <td>NaN</td>\n",
       "      <td>NaN</td>\n",
       "      <td>NaN</td>\n",
       "      <td>NaN</td>\n",
       "      <td>NaN</td>\n",
       "      <td>NaN</td>\n",
       "      <td>NaN</td>\n",
       "      <td>NaN</td>\n",
       "      <td>NaN</td>\n",
       "      <td>NaN</td>\n",
       "      <td>NaN</td>\n",
       "      <td>NaN</td>\n",
       "    </tr>\n",
       "    <tr>\n",
       "      <th>std</th>\n",
       "      <td>1084.581680</td>\n",
       "      <td>NaN</td>\n",
       "      <td>NaN</td>\n",
       "      <td>NaN</td>\n",
       "      <td>NaN</td>\n",
       "      <td>NaN</td>\n",
       "      <td>NaN</td>\n",
       "      <td>NaN</td>\n",
       "      <td>NaN</td>\n",
       "      <td>NaN</td>\n",
       "      <td>NaN</td>\n",
       "      <td>NaN</td>\n",
       "      <td>NaN</td>\n",
       "      <td>NaN</td>\n",
       "      <td>NaN</td>\n",
       "      <td>NaN</td>\n",
       "      <td>NaN</td>\n",
       "      <td>NaN</td>\n",
       "      <td>NaN</td>\n",
       "      <td>NaN</td>\n",
       "      <td>NaN</td>\n",
       "      <td>NaN</td>\n",
       "      <td>NaN</td>\n",
       "      <td>NaN</td>\n",
       "      <td>NaN</td>\n",
       "      <td>NaN</td>\n",
       "      <td>NaN</td>\n",
       "      <td>NaN</td>\n",
       "      <td>NaN</td>\n",
       "      <td>NaN</td>\n",
       "      <td>NaN</td>\n",
       "    </tr>\n",
       "    <tr>\n",
       "      <th>min</th>\n",
       "      <td>0.000000</td>\n",
       "      <td>NaN</td>\n",
       "      <td>NaN</td>\n",
       "      <td>NaN</td>\n",
       "      <td>NaN</td>\n",
       "      <td>NaN</td>\n",
       "      <td>NaN</td>\n",
       "      <td>NaN</td>\n",
       "      <td>NaN</td>\n",
       "      <td>NaN</td>\n",
       "      <td>NaN</td>\n",
       "      <td>NaN</td>\n",
       "      <td>NaN</td>\n",
       "      <td>NaN</td>\n",
       "      <td>NaN</td>\n",
       "      <td>NaN</td>\n",
       "      <td>NaN</td>\n",
       "      <td>NaN</td>\n",
       "      <td>NaN</td>\n",
       "      <td>NaN</td>\n",
       "      <td>NaN</td>\n",
       "      <td>NaN</td>\n",
       "      <td>NaN</td>\n",
       "      <td>NaN</td>\n",
       "      <td>NaN</td>\n",
       "      <td>NaN</td>\n",
       "      <td>NaN</td>\n",
       "      <td>NaN</td>\n",
       "      <td>NaN</td>\n",
       "      <td>NaN</td>\n",
       "      <td>NaN</td>\n",
       "    </tr>\n",
       "    <tr>\n",
       "      <th>25%</th>\n",
       "      <td>963.000000</td>\n",
       "      <td>NaN</td>\n",
       "      <td>NaN</td>\n",
       "      <td>NaN</td>\n",
       "      <td>NaN</td>\n",
       "      <td>NaN</td>\n",
       "      <td>NaN</td>\n",
       "      <td>NaN</td>\n",
       "      <td>NaN</td>\n",
       "      <td>NaN</td>\n",
       "      <td>NaN</td>\n",
       "      <td>NaN</td>\n",
       "      <td>NaN</td>\n",
       "      <td>NaN</td>\n",
       "      <td>NaN</td>\n",
       "      <td>NaN</td>\n",
       "      <td>NaN</td>\n",
       "      <td>NaN</td>\n",
       "      <td>NaN</td>\n",
       "      <td>NaN</td>\n",
       "      <td>NaN</td>\n",
       "      <td>NaN</td>\n",
       "      <td>NaN</td>\n",
       "      <td>NaN</td>\n",
       "      <td>NaN</td>\n",
       "      <td>NaN</td>\n",
       "      <td>NaN</td>\n",
       "      <td>NaN</td>\n",
       "      <td>NaN</td>\n",
       "      <td>NaN</td>\n",
       "      <td>NaN</td>\n",
       "    </tr>\n",
       "    <tr>\n",
       "      <th>50%</th>\n",
       "      <td>1899.000000</td>\n",
       "      <td>NaN</td>\n",
       "      <td>NaN</td>\n",
       "      <td>NaN</td>\n",
       "      <td>NaN</td>\n",
       "      <td>NaN</td>\n",
       "      <td>NaN</td>\n",
       "      <td>NaN</td>\n",
       "      <td>NaN</td>\n",
       "      <td>NaN</td>\n",
       "      <td>NaN</td>\n",
       "      <td>NaN</td>\n",
       "      <td>NaN</td>\n",
       "      <td>NaN</td>\n",
       "      <td>NaN</td>\n",
       "      <td>NaN</td>\n",
       "      <td>NaN</td>\n",
       "      <td>NaN</td>\n",
       "      <td>NaN</td>\n",
       "      <td>NaN</td>\n",
       "      <td>NaN</td>\n",
       "      <td>NaN</td>\n",
       "      <td>NaN</td>\n",
       "      <td>NaN</td>\n",
       "      <td>NaN</td>\n",
       "      <td>NaN</td>\n",
       "      <td>NaN</td>\n",
       "      <td>NaN</td>\n",
       "      <td>NaN</td>\n",
       "      <td>NaN</td>\n",
       "      <td>NaN</td>\n",
       "    </tr>\n",
       "    <tr>\n",
       "      <th>75%</th>\n",
       "      <td>2818.000000</td>\n",
       "      <td>NaN</td>\n",
       "      <td>NaN</td>\n",
       "      <td>NaN</td>\n",
       "      <td>NaN</td>\n",
       "      <td>NaN</td>\n",
       "      <td>NaN</td>\n",
       "      <td>NaN</td>\n",
       "      <td>NaN</td>\n",
       "      <td>NaN</td>\n",
       "      <td>NaN</td>\n",
       "      <td>NaN</td>\n",
       "      <td>NaN</td>\n",
       "      <td>NaN</td>\n",
       "      <td>NaN</td>\n",
       "      <td>NaN</td>\n",
       "      <td>NaN</td>\n",
       "      <td>NaN</td>\n",
       "      <td>NaN</td>\n",
       "      <td>NaN</td>\n",
       "      <td>NaN</td>\n",
       "      <td>NaN</td>\n",
       "      <td>NaN</td>\n",
       "      <td>NaN</td>\n",
       "      <td>NaN</td>\n",
       "      <td>NaN</td>\n",
       "      <td>NaN</td>\n",
       "      <td>NaN</td>\n",
       "      <td>NaN</td>\n",
       "      <td>NaN</td>\n",
       "      <td>NaN</td>\n",
       "    </tr>\n",
       "    <tr>\n",
       "      <th>max</th>\n",
       "      <td>3770.000000</td>\n",
       "      <td>NaN</td>\n",
       "      <td>NaN</td>\n",
       "      <td>NaN</td>\n",
       "      <td>NaN</td>\n",
       "      <td>NaN</td>\n",
       "      <td>NaN</td>\n",
       "      <td>NaN</td>\n",
       "      <td>NaN</td>\n",
       "      <td>NaN</td>\n",
       "      <td>NaN</td>\n",
       "      <td>NaN</td>\n",
       "      <td>NaN</td>\n",
       "      <td>NaN</td>\n",
       "      <td>NaN</td>\n",
       "      <td>NaN</td>\n",
       "      <td>NaN</td>\n",
       "      <td>NaN</td>\n",
       "      <td>NaN</td>\n",
       "      <td>NaN</td>\n",
       "      <td>NaN</td>\n",
       "      <td>NaN</td>\n",
       "      <td>NaN</td>\n",
       "      <td>NaN</td>\n",
       "      <td>NaN</td>\n",
       "      <td>NaN</td>\n",
       "      <td>NaN</td>\n",
       "      <td>NaN</td>\n",
       "      <td>NaN</td>\n",
       "      <td>NaN</td>\n",
       "      <td>NaN</td>\n",
       "    </tr>\n",
       "  </tbody>\n",
       "</table>\n",
       "</div>"
      ],
      "text/plain": [
       "         Unnamed: 0   age   sex on_thyroxine query_on_thyroxine  \\\n",
       "count   3017.000000  3017  3017         3017               3017   \n",
       "unique          NaN    93     3            2                  2   \n",
       "top             NaN    60     F            f                  f   \n",
       "freq            NaN    78  1980         2645               2972   \n",
       "mean    1888.575075   NaN   NaN          NaN                NaN   \n",
       "std     1084.581680   NaN   NaN          NaN                NaN   \n",
       "min        0.000000   NaN   NaN          NaN                NaN   \n",
       "25%      963.000000   NaN   NaN          NaN                NaN   \n",
       "50%     1899.000000   NaN   NaN          NaN                NaN   \n",
       "75%     2818.000000   NaN   NaN          NaN                NaN   \n",
       "max     3770.000000   NaN   NaN          NaN                NaN   \n",
       "\n",
       "       on_antithyroid_medication  sick pregnant thyroid_surgery  \\\n",
       "count                       3017  3017     3017            3017   \n",
       "unique                         2     2        2               2   \n",
       "top                            f     f        f               f   \n",
       "freq                        2982  2907     2977            2977   \n",
       "mean                         NaN   NaN      NaN             NaN   \n",
       "std                          NaN   NaN      NaN             NaN   \n",
       "min                          NaN   NaN      NaN             NaN   \n",
       "25%                          NaN   NaN      NaN             NaN   \n",
       "50%                          NaN   NaN      NaN             NaN   \n",
       "75%                          NaN   NaN      NaN             NaN   \n",
       "max                          NaN   NaN      NaN             NaN   \n",
       "\n",
       "       I131_treatment query_hypothyroid query_hyperthyroid lithium goitre  \\\n",
       "count            3017              3017               3017    3017   3017   \n",
       "unique              2                 2                  2       2      2   \n",
       "top                 f                 f                  f       f      f   \n",
       "freq             2968              2822               2825    3002   2988   \n",
       "mean              NaN               NaN                NaN     NaN    NaN   \n",
       "std               NaN               NaN                NaN     NaN    NaN   \n",
       "min               NaN               NaN                NaN     NaN    NaN   \n",
       "25%               NaN               NaN                NaN     NaN    NaN   \n",
       "50%               NaN               NaN                NaN     NaN    NaN   \n",
       "75%               NaN               NaN                NaN     NaN    NaN   \n",
       "max               NaN               NaN                NaN     NaN    NaN   \n",
       "\n",
       "       tumor hypopituitary psych TSH_measured   TSH T3_measured    T3  \\\n",
       "count   3017          3017  3017         3017  3017        3017  3017   \n",
       "unique     2             2     2            2   274           2    65   \n",
       "top        f             f     f            t     ?           t     ?   \n",
       "freq    2943          3016  2874         2721   296        2399   618   \n",
       "mean     NaN           NaN   NaN          NaN   NaN         NaN   NaN   \n",
       "std      NaN           NaN   NaN          NaN   NaN         NaN   NaN   \n",
       "min      NaN           NaN   NaN          NaN   NaN         NaN   NaN   \n",
       "25%      NaN           NaN   NaN          NaN   NaN         NaN   NaN   \n",
       "50%      NaN           NaN   NaN          NaN   NaN         NaN   NaN   \n",
       "75%      NaN           NaN   NaN          NaN   NaN         NaN   NaN   \n",
       "max      NaN           NaN   NaN          NaN   NaN         NaN   NaN   \n",
       "\n",
       "       TT4_measured   TT4 T4U_measured   T4U FTI_measured   FTI TBG_measured  \\\n",
       "count          3017  3017         3017  3017         3017  3017         3017   \n",
       "unique            2   233            2   141            2   218            1   \n",
       "top               t     ?            t     ?            t     ?            f   \n",
       "freq           2829   188         2710   307         2712   305         3017   \n",
       "mean            NaN   NaN          NaN   NaN          NaN   NaN          NaN   \n",
       "std             NaN   NaN          NaN   NaN          NaN   NaN          NaN   \n",
       "min             NaN   NaN          NaN   NaN          NaN   NaN          NaN   \n",
       "25%             NaN   NaN          NaN   NaN          NaN   NaN          NaN   \n",
       "50%             NaN   NaN          NaN   NaN          NaN   NaN          NaN   \n",
       "75%             NaN   NaN          NaN   NaN          NaN   NaN          NaN   \n",
       "max             NaN   NaN          NaN   NaN          NaN   NaN          NaN   \n",
       "\n",
       "         TBG referral_source     Class  \n",
       "count   3017            3017      3017  \n",
       "unique     1               5         4  \n",
       "top        ?           other  negative  \n",
       "freq    3017            1755      2788  \n",
       "mean     NaN             NaN       NaN  \n",
       "std      NaN             NaN       NaN  \n",
       "min      NaN             NaN       NaN  \n",
       "25%      NaN             NaN       NaN  \n",
       "50%      NaN             NaN       NaN  \n",
       "75%      NaN             NaN       NaN  \n",
       "max      NaN             NaN       NaN  "
      ]
     },
     "execution_count": 9,
     "metadata": {},
     "output_type": "execute_result"
    }
   ],
   "source": [
    "#Reading statistical data\n",
    "data.describe(include=\"all\")"
   ]
  },
  {
   "cell_type": "markdown",
   "metadata": {},
   "source": [
    "From the above chart we can observe the missing values are denoted by \"?\" in some columns"
   ]
  },
  {
   "cell_type": "markdown",
   "metadata": {},
   "source": [
    "### Missing Values"
   ]
  },
  {
   "cell_type": "code",
   "execution_count": 10,
   "metadata": {
    "scrolled": true
   },
   "outputs": [
    {
     "name": "stdout",
     "output_type": "stream",
     "text": [
      "age 1\n",
      "sex 116\n",
      "TSH 296\n",
      "T3 618\n",
      "TT4 188\n",
      "T4U 307\n",
      "FTI 305\n",
      "TBG 3017\n"
     ]
    }
   ],
   "source": [
    "#Checking for columns having missing values(\"?\") \n",
    "for col in data.columns:\n",
    "    count=data[col][data[col]==\"?\"].count()\n",
    "    if count!=0:\n",
    "        print(col, count)"
   ]
  },
  {
   "cell_type": "code",
   "execution_count": 11,
   "metadata": {},
   "outputs": [],
   "source": [
    "#Replacing \"?\" with nan from proper analysis\n",
    "data=data.replace(\"?\",np.nan)"
   ]
  },
  {
   "cell_type": "code",
   "execution_count": 12,
   "metadata": {
    "scrolled": true
   },
   "outputs": [
    {
     "data": {
      "text/plain": [
       "Unnamed: 0                      0\n",
       "age                             1\n",
       "sex                           116\n",
       "on_thyroxine                    0\n",
       "query_on_thyroxine              0\n",
       "on_antithyroid_medication       0\n",
       "sick                            0\n",
       "pregnant                        0\n",
       "thyroid_surgery                 0\n",
       "I131_treatment                  0\n",
       "query_hypothyroid               0\n",
       "query_hyperthyroid              0\n",
       "lithium                         0\n",
       "goitre                          0\n",
       "tumor                           0\n",
       "hypopituitary                   0\n",
       "psych                           0\n",
       "TSH_measured                    0\n",
       "TSH                           296\n",
       "T3_measured                     0\n",
       "T3                            618\n",
       "TT4_measured                    0\n",
       "TT4                           188\n",
       "T4U_measured                    0\n",
       "T4U                           307\n",
       "FTI_measured                    0\n",
       "FTI                           305\n",
       "TBG_measured                    0\n",
       "TBG                          3017\n",
       "referral_source                 0\n",
       "Class                           0\n",
       "dtype: int64"
      ]
     },
     "execution_count": 12,
     "metadata": {},
     "output_type": "execute_result"
    }
   ],
   "source": [
    "#Total null values present in columns\n",
    "data.isnull().sum()"
   ]
  },
  {
   "cell_type": "code",
   "execution_count": 13,
   "metadata": {},
   "outputs": [
    {
     "name": "stdout",
     "output_type": "stream",
     "text": [
      "age 0.0003 % missing values\n",
      "sex 0.0384 % missing values\n",
      "TSH 0.0981 % missing values\n",
      "T3 0.2048 % missing values\n",
      "TT4 0.0623 % missing values\n",
      "T4U 0.1018 % missing values\n",
      "FTI 0.1011 % missing values\n",
      "TBG 1.0 % missing values\n"
     ]
    }
   ],
   "source": [
    "#Percentage of nan values present in the columns\n",
    "feature_with_na=[feature for feature in data.columns if data[feature].isnull().sum()>0]\n",
    "\n",
    "for i in feature_with_na:\n",
    "    print(i, np.round(data[i].isnull().mean(),4), \"% missing values\")"
   ]
  },
  {
   "cell_type": "markdown",
   "metadata": {},
   "source": [
    "### Relationship between Missing values and Taget variable"
   ]
  },
  {
   "cell_type": "code",
   "execution_count": 14,
   "metadata": {},
   "outputs": [
    {
     "data": {
      "image/png": "[encoded data removed]",
      "text/plain": [
       "<Figure size 432x288 with 1 Axes>"
      ]
     },
     "metadata": {},
     "output_type": "display_data"
    },
    {
     "data": {
      "image/png": "[encoded data removed]",
      "text/plain": [
       "<Figure size 432x288 with 1 Axes>"
      ]
     },
     "metadata": {},
     "output_type": "display_data"
    },
    {
     "data": {
      "image/png": "[encoded data removed]",
      "text/plain": [
       "<Figure size 432x288 with 1 Axes>"
      ]
     },
     "metadata": {},
     "output_type": "display_data"
    },
    {
     "data": {
      "image/png": "[encoded data removed]",
      "text/plain": [
       "<Figure size 432x288 with 1 Axes>"
      ]
     },
     "metadata": {},
     "output_type": "display_data"
    },
    {
     "data": {
      "image/png": "[encoded data removed]",
      "text/plain": [
       "<Figure size 432x288 with 1 Axes>"
      ]
     },
     "metadata": {},
     "output_type": "display_data"
    },
    {
     "data": {
      "image/png": "[encoded data removed]",
      "text/plain": [
       "<Figure size 432x288 with 1 Axes>"
      ]
     },
     "metadata": {},
     "output_type": "display_data"
    },
    {
     "data": {
      "image/png": "[encoded data removed]",
      "text/plain": [
       "<Figure size 432x288 with 1 Axes>"
      ]
     },
     "metadata": {},
     "output_type": "display_data"
    },
    {
     "data": {
      "image/png": "[encoded data removed]",
      "text/plain": [
       "<Figure size 432x288 with 1 Axes>"
      ]
     },
     "metadata": {},
     "output_type": "display_data"
    }
   ],
   "source": [
    "for feature in feature_with_na:\n",
    "    dataset=data.copy()\n",
    "    \n",
    "    # #let's make a variable that indicates 1 if the observation was missing or zero other wise\n",
    "    dataset[feature]=np.where(dataset[feature].isnull(),1,0)\n",
    "    \n",
    "    #Visualizing the missing data columns w.r.t to target column\n",
    "    plt.style.use(\"seaborn-whitegrid\")\n",
    "    #fig = plt.figure(figsize=(18,6))\n",
    "    dataset.groupby(feature).Class.count().plot.bar()\n",
    "    plt.ylabel(\"Class Count\")\n",
    "    plt.show()"
   ]
  },
  {
   "cell_type": "markdown",
   "metadata": {},
   "source": [
    "#From the above plots we conclude that TBG has all missing values, therefore it needs to be dropped. The others features are having some relationship between missing data and Class variable, so it needs to be Imputed."
   ]
  },
  {
   "cell_type": "markdown",
   "metadata": {},
   "source": [
    "Now checking the target variable"
   ]
  },
  {
   "cell_type": "code",
   "execution_count": 15,
   "metadata": {},
   "outputs": [
    {
     "data": {
      "text/plain": [
       "array(['negative', 'compensated_hypothyroid', 'primary_hypothyroid',\n",
       "       'secondary_hypothyroid'], dtype=object)"
      ]
     },
     "execution_count": 15,
     "metadata": {},
     "output_type": "execute_result"
    }
   ],
   "source": [
    "#Number of categories present in target variable\n",
    "data[\"Class\"].unique()"
   ]
  },
  {
   "cell_type": "code",
   "execution_count": 18,
   "metadata": {},
   "outputs": [
    {
     "data": {
      "text/plain": [
       "<matplotlib.axes._subplots.AxesSubplot at 0x2244f29c220>"
      ]
     },
     "execution_count": 18,
     "metadata": {},
     "output_type": "execute_result"
    },
    {
     "data": {
      "image/png": "[encoded data removed]",
      "text/plain": [
       "<Figure size 1080x576 with 1 Axes>"
      ]
     },
     "metadata": {},
     "output_type": "display_data"
    }
   ],
   "source": [
    "#Distribution of target data\n",
    "plt.figure(figsize=(15,8), facecolor='white')\n",
    "plt.style.use('seaborn-darkgrid')\n",
    "sns.countplot(x=\"Class\",data=data, hue=\"Class\")"
   ]
  },
  {
   "cell_type": "markdown",
   "metadata": {},
   "source": [
    "From the above distribution it is very clear that the data is imblanced so it needs to be label encoded and perform resampling"
   ]
  },
  {
   "cell_type": "code",
   "execution_count": 16,
   "metadata": {},
   "outputs": [
    {
     "data": {
      "text/html": [
       "<div>\n",
       "<style scoped>\n",
       "    .dataframe tbody tr th:only-of-type {\n",
       "        vertical-align: middle;\n",
       "    }\n",
       "\n",
       "    .dataframe tbody tr th {\n",
       "        vertical-align: top;\n",
       "    }\n",
       "\n",
       "    .dataframe thead th {\n",
       "        text-align: right;\n",
       "    }\n",
       "</style>\n",
       "<table border=\"1\" class=\"dataframe\">\n",
       "  <thead>\n",
       "    <tr style=\"text-align: right;\">\n",
       "      <th></th>\n",
       "      <th>sex</th>\n",
       "      <th>on_thyroxine</th>\n",
       "      <th>query_on_thyroxine</th>\n",
       "      <th>on_antithyroid_medication</th>\n",
       "      <th>sick</th>\n",
       "      <th>pregnant</th>\n",
       "      <th>thyroid_surgery</th>\n",
       "      <th>I131_treatment</th>\n",
       "      <th>query_hypothyroid</th>\n",
       "      <th>query_hyperthyroid</th>\n",
       "      <th>lithium</th>\n",
       "      <th>goitre</th>\n",
       "      <th>tumor</th>\n",
       "      <th>hypopituitary</th>\n",
       "      <th>psych</th>\n",
       "    </tr>\n",
       "  </thead>\n",
       "  <tbody>\n",
       "    <tr>\n",
       "      <th>0</th>\n",
       "      <td>M</td>\n",
       "      <td>f</td>\n",
       "      <td>f</td>\n",
       "      <td>f</td>\n",
       "      <td>f</td>\n",
       "      <td>f</td>\n",
       "      <td>f</td>\n",
       "      <td>f</td>\n",
       "      <td>f</td>\n",
       "      <td>f</td>\n",
       "      <td>f</td>\n",
       "      <td>f</td>\n",
       "      <td>f</td>\n",
       "      <td>f</td>\n",
       "      <td>t</td>\n",
       "    </tr>\n",
       "    <tr>\n",
       "      <th>1</th>\n",
       "      <td>F</td>\n",
       "      <td>f</td>\n",
       "      <td>f</td>\n",
       "      <td>f</td>\n",
       "      <td>f</td>\n",
       "      <td>f</td>\n",
       "      <td>f</td>\n",
       "      <td>f</td>\n",
       "      <td>f</td>\n",
       "      <td>f</td>\n",
       "      <td>f</td>\n",
       "      <td>f</td>\n",
       "      <td>f</td>\n",
       "      <td>f</td>\n",
       "      <td>f</td>\n",
       "    </tr>\n",
       "    <tr>\n",
       "      <th>2</th>\n",
       "      <td>F</td>\n",
       "      <td>f</td>\n",
       "      <td>f</td>\n",
       "      <td>f</td>\n",
       "      <td>f</td>\n",
       "      <td>f</td>\n",
       "      <td>f</td>\n",
       "      <td>f</td>\n",
       "      <td>f</td>\n",
       "      <td>f</td>\n",
       "      <td>f</td>\n",
       "      <td>f</td>\n",
       "      <td>f</td>\n",
       "      <td>f</td>\n",
       "      <td>f</td>\n",
       "    </tr>\n",
       "    <tr>\n",
       "      <th>3</th>\n",
       "      <td>F</td>\n",
       "      <td>f</td>\n",
       "      <td>f</td>\n",
       "      <td>f</td>\n",
       "      <td>f</td>\n",
       "      <td>f</td>\n",
       "      <td>f</td>\n",
       "      <td>f</td>\n",
       "      <td>f</td>\n",
       "      <td>f</td>\n",
       "      <td>f</td>\n",
       "      <td>f</td>\n",
       "      <td>f</td>\n",
       "      <td>f</td>\n",
       "      <td>f</td>\n",
       "    </tr>\n",
       "    <tr>\n",
       "      <th>4</th>\n",
       "      <td>M</td>\n",
       "      <td>f</td>\n",
       "      <td>f</td>\n",
       "      <td>f</td>\n",
       "      <td>f</td>\n",
       "      <td>f</td>\n",
       "      <td>f</td>\n",
       "      <td>f</td>\n",
       "      <td>f</td>\n",
       "      <td>f</td>\n",
       "      <td>f</td>\n",
       "      <td>f</td>\n",
       "      <td>f</td>\n",
       "      <td>f</td>\n",
       "      <td>t</td>\n",
       "    </tr>\n",
       "  </tbody>\n",
       "</table>\n",
       "</div>"
      ],
      "text/plain": [
       "  sex on_thyroxine query_on_thyroxine on_antithyroid_medication sick pregnant  \\\n",
       "0   M            f                  f                         f    f        f   \n",
       "1   F            f                  f                         f    f        f   \n",
       "2   F            f                  f                         f    f        f   \n",
       "3   F            f                  f                         f    f        f   \n",
       "4   M            f                  f                         f    f        f   \n",
       "\n",
       "  thyroid_surgery I131_treatment query_hypothyroid query_hyperthyroid lithium  \\\n",
       "0               f              f                 f                  f       f   \n",
       "1               f              f                 f                  f       f   \n",
       "2               f              f                 f                  f       f   \n",
       "3               f              f                 f                  f       f   \n",
       "4               f              f                 f                  f       f   \n",
       "\n",
       "  goitre tumor hypopituitary psych  \n",
       "0      f     f             f     t  \n",
       "1      f     f             f     f  \n",
       "2      f     f             f     f  \n",
       "3      f     f             f     f  \n",
       "4      f     f             f     t  "
      ]
     },
     "execution_count": 16,
     "metadata": {},
     "output_type": "execute_result"
    }
   ],
   "source": [
    "#Performing analysis with specific values \n",
    "data_1=data.copy()\n",
    "data_1=data.iloc[:,2:17]\n",
    "data_1.head()"
   ]
  },
  {
   "cell_type": "code",
   "execution_count": 17,
   "metadata": {
    "scrolled": true
   },
   "outputs": [
    {
     "name": "stdout",
     "output_type": "stream",
     "text": [
      "sex \n",
      "-----------\n",
      "The unique values are ['M' 'F' nan]\n",
      "The value counts are:\n",
      "F    1980\n",
      "M     921\n",
      "Name: sex, dtype: int64\n",
      "on_thyroxine \n",
      "-----------\n",
      "The unique values are ['f' 't']\n",
      "The value counts are:\n",
      "f    2645\n",
      "t     372\n",
      "Name: on_thyroxine, dtype: int64\n",
      "query_on_thyroxine \n",
      "-----------\n",
      "The unique values are ['f' 't']\n",
      "The value counts are:\n",
      "f    2972\n",
      "t      45\n",
      "Name: query_on_thyroxine, dtype: int64\n",
      "on_antithyroid_medication \n",
      "-----------\n",
      "The unique values are ['f' 't']\n",
      "The value counts are:\n",
      "f    2982\n",
      "t      35\n",
      "Name: on_antithyroid_medication, dtype: int64\n",
      "sick \n",
      "-----------\n",
      "The unique values are ['f' 't']\n",
      "The value counts are:\n",
      "f    2907\n",
      "t     110\n",
      "Name: sick, dtype: int64\n",
      "pregnant \n",
      "-----------\n",
      "The unique values are ['f' 't']\n",
      "The value counts are:\n",
      "f    2977\n",
      "t      40\n",
      "Name: pregnant, dtype: int64\n",
      "thyroid_surgery \n",
      "-----------\n",
      "The unique values are ['f' 't']\n",
      "The value counts are:\n",
      "f    2977\n",
      "t      40\n",
      "Name: thyroid_surgery, dtype: int64\n",
      "I131_treatment \n",
      "-----------\n",
      "The unique values are ['f' 't']\n",
      "The value counts are:\n",
      "f    2968\n",
      "t      49\n",
      "Name: I131_treatment, dtype: int64\n",
      "query_hypothyroid \n",
      "-----------\n",
      "The unique values are ['f' 't']\n",
      "The value counts are:\n",
      "f    2822\n",
      "t     195\n",
      "Name: query_hypothyroid, dtype: int64\n",
      "query_hyperthyroid \n",
      "-----------\n",
      "The unique values are ['f' 't']\n",
      "The value counts are:\n",
      "f    2825\n",
      "t     192\n",
      "Name: query_hyperthyroid, dtype: int64\n",
      "lithium \n",
      "-----------\n",
      "The unique values are ['f' 't']\n",
      "The value counts are:\n",
      "f    3002\n",
      "t      15\n",
      "Name: lithium, dtype: int64\n",
      "goitre \n",
      "-----------\n",
      "The unique values are ['f' 't']\n",
      "The value counts are:\n",
      "f    2988\n",
      "t      29\n",
      "Name: goitre, dtype: int64\n",
      "tumor \n",
      "-----------\n",
      "The unique values are ['f' 't']\n",
      "The value counts are:\n",
      "f    2943\n",
      "t      74\n",
      "Name: tumor, dtype: int64\n",
      "hypopituitary \n",
      "-----------\n",
      "The unique values are ['f' 't']\n",
      "The value counts are:\n",
      "f    3016\n",
      "t       1\n",
      "Name: hypopituitary, dtype: int64\n",
      "psych \n",
      "-----------\n",
      "The unique values are ['t' 'f']\n",
      "The value counts are:\n",
      "f    2874\n",
      "t     143\n",
      "Name: psych, dtype: int64\n"
     ]
    }
   ],
   "source": [
    "#Descripting categories and counts of the columns\n",
    "for i in data_1.columns:\n",
    "    print(i,\"\\n-----------\")\n",
    "    print(\"The unique values are\" ,data_1[i].unique())\n",
    "    print(\"The value counts are:\")\n",
    "    print(data[i].value_counts())"
   ]
  },
  {
   "cell_type": "markdown",
   "metadata": {},
   "source": [
    "From the above data we understand the Categorical unique values are as follows:\n",
    "\n",
    "M- Male(Sex)\n",
    "\n",
    "F- Female(Sex) \n",
    "\n",
    "f- False\n",
    "\n",
    "t- True\n",
    "\n",
    "Therefore the categories needs to be Imputed"
   ]
  },
  {
   "cell_type": "code",
   "execution_count": 21,
   "metadata": {},
   "outputs": [
    {
     "data": {
      "text/html": [
       "<div>\n",
       "<style scoped>\n",
       "    .dataframe tbody tr th:only-of-type {\n",
       "        vertical-align: middle;\n",
       "    }\n",
       "\n",
       "    .dataframe tbody tr th {\n",
       "        vertical-align: top;\n",
       "    }\n",
       "\n",
       "    .dataframe thead th {\n",
       "        text-align: right;\n",
       "    }\n",
       "</style>\n",
       "<table border=\"1\" class=\"dataframe\">\n",
       "  <thead>\n",
       "    <tr style=\"text-align: right;\">\n",
       "      <th></th>\n",
       "      <th>Unnamed: 0</th>\n",
       "      <th>age</th>\n",
       "      <th>sex</th>\n",
       "      <th>on_thyroxine</th>\n",
       "      <th>query_on_thyroxine</th>\n",
       "      <th>on_antithyroid_medication</th>\n",
       "      <th>sick</th>\n",
       "      <th>pregnant</th>\n",
       "      <th>thyroid_surgery</th>\n",
       "      <th>I131_treatment</th>\n",
       "      <th>query_hypothyroid</th>\n",
       "      <th>query_hyperthyroid</th>\n",
       "      <th>lithium</th>\n",
       "      <th>goitre</th>\n",
       "      <th>tumor</th>\n",
       "      <th>hypopituitary</th>\n",
       "      <th>psych</th>\n",
       "      <th>TSH_measured</th>\n",
       "      <th>TSH</th>\n",
       "      <th>T3_measured</th>\n",
       "      <th>T3</th>\n",
       "      <th>TT4_measured</th>\n",
       "      <th>TT4</th>\n",
       "      <th>T4U_measured</th>\n",
       "      <th>T4U</th>\n",
       "      <th>FTI_measured</th>\n",
       "      <th>FTI</th>\n",
       "      <th>TBG_measured</th>\n",
       "      <th>TBG</th>\n",
       "      <th>referral_source</th>\n",
       "      <th>Class</th>\n",
       "    </tr>\n",
       "  </thead>\n",
       "  <tbody>\n",
       "    <tr>\n",
       "      <th>0</th>\n",
       "      <td>739</td>\n",
       "      <td>74</td>\n",
       "      <td>M</td>\n",
       "      <td>f</td>\n",
       "      <td>f</td>\n",
       "      <td>f</td>\n",
       "      <td>f</td>\n",
       "      <td>f</td>\n",
       "      <td>f</td>\n",
       "      <td>f</td>\n",
       "      <td>f</td>\n",
       "      <td>f</td>\n",
       "      <td>f</td>\n",
       "      <td>f</td>\n",
       "      <td>f</td>\n",
       "      <td>f</td>\n",
       "      <td>t</td>\n",
       "      <td>t</td>\n",
       "      <td>1.3</td>\n",
       "      <td>t</td>\n",
       "      <td>1.8</td>\n",
       "      <td>t</td>\n",
       "      <td>96</td>\n",
       "      <td>t</td>\n",
       "      <td>1.06</td>\n",
       "      <td>t</td>\n",
       "      <td>90</td>\n",
       "      <td>f</td>\n",
       "      <td>NaN</td>\n",
       "      <td>SVHC</td>\n",
       "      <td>negative</td>\n",
       "    </tr>\n",
       "    <tr>\n",
       "      <th>1</th>\n",
       "      <td>3284</td>\n",
       "      <td>75</td>\n",
       "      <td>F</td>\n",
       "      <td>f</td>\n",
       "      <td>f</td>\n",
       "      <td>f</td>\n",
       "      <td>f</td>\n",
       "      <td>f</td>\n",
       "      <td>f</td>\n",
       "      <td>f</td>\n",
       "      <td>f</td>\n",
       "      <td>f</td>\n",
       "      <td>f</td>\n",
       "      <td>f</td>\n",
       "      <td>f</td>\n",
       "      <td>f</td>\n",
       "      <td>f</td>\n",
       "      <td>t</td>\n",
       "      <td>0.33</td>\n",
       "      <td>t</td>\n",
       "      <td>1.8</td>\n",
       "      <td>t</td>\n",
       "      <td>134</td>\n",
       "      <td>t</td>\n",
       "      <td>0.97</td>\n",
       "      <td>t</td>\n",
       "      <td>138</td>\n",
       "      <td>f</td>\n",
       "      <td>NaN</td>\n",
       "      <td>other</td>\n",
       "      <td>negative</td>\n",
       "    </tr>\n",
       "    <tr>\n",
       "      <th>2</th>\n",
       "      <td>3694</td>\n",
       "      <td>31</td>\n",
       "      <td>F</td>\n",
       "      <td>f</td>\n",
       "      <td>f</td>\n",
       "      <td>f</td>\n",
       "      <td>f</td>\n",
       "      <td>f</td>\n",
       "      <td>f</td>\n",
       "      <td>f</td>\n",
       "      <td>f</td>\n",
       "      <td>f</td>\n",
       "      <td>f</td>\n",
       "      <td>f</td>\n",
       "      <td>f</td>\n",
       "      <td>f</td>\n",
       "      <td>f</td>\n",
       "      <td>t</td>\n",
       "      <td>3.4</td>\n",
       "      <td>f</td>\n",
       "      <td>NaN</td>\n",
       "      <td>t</td>\n",
       "      <td>104</td>\n",
       "      <td>t</td>\n",
       "      <td>0.94</td>\n",
       "      <td>t</td>\n",
       "      <td>112</td>\n",
       "      <td>f</td>\n",
       "      <td>NaN</td>\n",
       "      <td>STMW</td>\n",
       "      <td>negative</td>\n",
       "    </tr>\n",
       "    <tr>\n",
       "      <th>3</th>\n",
       "      <td>1157</td>\n",
       "      <td>34</td>\n",
       "      <td>F</td>\n",
       "      <td>f</td>\n",
       "      <td>f</td>\n",
       "      <td>f</td>\n",
       "      <td>f</td>\n",
       "      <td>f</td>\n",
       "      <td>f</td>\n",
       "      <td>f</td>\n",
       "      <td>f</td>\n",
       "      <td>f</td>\n",
       "      <td>f</td>\n",
       "      <td>f</td>\n",
       "      <td>f</td>\n",
       "      <td>f</td>\n",
       "      <td>f</td>\n",
       "      <td>f</td>\n",
       "      <td>NaN</td>\n",
       "      <td>f</td>\n",
       "      <td>NaN</td>\n",
       "      <td>f</td>\n",
       "      <td>NaN</td>\n",
       "      <td>f</td>\n",
       "      <td>NaN</td>\n",
       "      <td>f</td>\n",
       "      <td>NaN</td>\n",
       "      <td>f</td>\n",
       "      <td>NaN</td>\n",
       "      <td>other</td>\n",
       "      <td>negative</td>\n",
       "    </tr>\n",
       "    <tr>\n",
       "      <th>4</th>\n",
       "      <td>1650</td>\n",
       "      <td>36</td>\n",
       "      <td>M</td>\n",
       "      <td>f</td>\n",
       "      <td>f</td>\n",
       "      <td>f</td>\n",
       "      <td>f</td>\n",
       "      <td>f</td>\n",
       "      <td>f</td>\n",
       "      <td>f</td>\n",
       "      <td>f</td>\n",
       "      <td>f</td>\n",
       "      <td>f</td>\n",
       "      <td>f</td>\n",
       "      <td>f</td>\n",
       "      <td>f</td>\n",
       "      <td>t</td>\n",
       "      <td>t</td>\n",
       "      <td>2.2</td>\n",
       "      <td>t</td>\n",
       "      <td>1.7</td>\n",
       "      <td>t</td>\n",
       "      <td>115</td>\n",
       "      <td>t</td>\n",
       "      <td>0.98</td>\n",
       "      <td>t</td>\n",
       "      <td>118</td>\n",
       "      <td>f</td>\n",
       "      <td>NaN</td>\n",
       "      <td>SVHC</td>\n",
       "      <td>negative</td>\n",
       "    </tr>\n",
       "  </tbody>\n",
       "</table>\n",
       "</div>"
      ],
      "text/plain": [
       "   Unnamed: 0 age sex on_thyroxine query_on_thyroxine  \\\n",
       "0         739  74   M            f                  f   \n",
       "1        3284  75   F            f                  f   \n",
       "2        3694  31   F            f                  f   \n",
       "3        1157  34   F            f                  f   \n",
       "4        1650  36   M            f                  f   \n",
       "\n",
       "  on_antithyroid_medication sick pregnant thyroid_surgery I131_treatment  \\\n",
       "0                         f    f        f               f              f   \n",
       "1                         f    f        f               f              f   \n",
       "2                         f    f        f               f              f   \n",
       "3                         f    f        f               f              f   \n",
       "4                         f    f        f               f              f   \n",
       "\n",
       "  query_hypothyroid query_hyperthyroid lithium goitre tumor hypopituitary  \\\n",
       "0                 f                  f       f      f     f             f   \n",
       "1                 f                  f       f      f     f             f   \n",
       "2                 f                  f       f      f     f             f   \n",
       "3                 f                  f       f      f     f             f   \n",
       "4                 f                  f       f      f     f             f   \n",
       "\n",
       "  psych TSH_measured   TSH T3_measured   T3 TT4_measured  TT4 T4U_measured  \\\n",
       "0     t            t   1.3           t  1.8            t   96            t   \n",
       "1     f            t  0.33           t  1.8            t  134            t   \n",
       "2     f            t   3.4           f  NaN            t  104            t   \n",
       "3     f            f   NaN           f  NaN            f  NaN            f   \n",
       "4     t            t   2.2           t  1.7            t  115            t   \n",
       "\n",
       "    T4U FTI_measured  FTI TBG_measured  TBG referral_source     Class  \n",
       "0  1.06            t   90            f  NaN            SVHC  negative  \n",
       "1  0.97            t  138            f  NaN           other  negative  \n",
       "2  0.94            t  112            f  NaN            STMW  negative  \n",
       "3   NaN            f  NaN            f  NaN           other  negative  \n",
       "4  0.98            t  118            f  NaN            SVHC  negative  "
      ]
     },
     "execution_count": 21,
     "metadata": {},
     "output_type": "execute_result"
    }
   ],
   "source": [
    "data.head()"
   ]
  },
  {
   "cell_type": "code",
   "execution_count": 18,
   "metadata": {},
   "outputs": [
    {
     "data": {
      "text/html": [
       "<div>\n",
       "<style scoped>\n",
       "    .dataframe tbody tr th:only-of-type {\n",
       "        vertical-align: middle;\n",
       "    }\n",
       "\n",
       "    .dataframe tbody tr th {\n",
       "        vertical-align: top;\n",
       "    }\n",
       "\n",
       "    .dataframe thead th {\n",
       "        text-align: right;\n",
       "    }\n",
       "</style>\n",
       "<table border=\"1\" class=\"dataframe\">\n",
       "  <thead>\n",
       "    <tr style=\"text-align: right;\">\n",
       "      <th></th>\n",
       "      <th>TSH_measured</th>\n",
       "      <th>TSH</th>\n",
       "      <th>T3_measured</th>\n",
       "      <th>T3</th>\n",
       "      <th>TT4_measured</th>\n",
       "      <th>TT4</th>\n",
       "      <th>T4U_measured</th>\n",
       "      <th>T4U</th>\n",
       "      <th>FTI_measured</th>\n",
       "      <th>FTI</th>\n",
       "      <th>TBG_measured</th>\n",
       "      <th>TBG</th>\n",
       "    </tr>\n",
       "  </thead>\n",
       "  <tbody>\n",
       "    <tr>\n",
       "      <th>0</th>\n",
       "      <td>t</td>\n",
       "      <td>1.3</td>\n",
       "      <td>t</td>\n",
       "      <td>1.8</td>\n",
       "      <td>t</td>\n",
       "      <td>96</td>\n",
       "      <td>t</td>\n",
       "      <td>1.06</td>\n",
       "      <td>t</td>\n",
       "      <td>90</td>\n",
       "      <td>f</td>\n",
       "      <td>NaN</td>\n",
       "    </tr>\n",
       "    <tr>\n",
       "      <th>1</th>\n",
       "      <td>t</td>\n",
       "      <td>0.33</td>\n",
       "      <td>t</td>\n",
       "      <td>1.8</td>\n",
       "      <td>t</td>\n",
       "      <td>134</td>\n",
       "      <td>t</td>\n",
       "      <td>0.97</td>\n",
       "      <td>t</td>\n",
       "      <td>138</td>\n",
       "      <td>f</td>\n",
       "      <td>NaN</td>\n",
       "    </tr>\n",
       "    <tr>\n",
       "      <th>2</th>\n",
       "      <td>t</td>\n",
       "      <td>3.4</td>\n",
       "      <td>f</td>\n",
       "      <td>NaN</td>\n",
       "      <td>t</td>\n",
       "      <td>104</td>\n",
       "      <td>t</td>\n",
       "      <td>0.94</td>\n",
       "      <td>t</td>\n",
       "      <td>112</td>\n",
       "      <td>f</td>\n",
       "      <td>NaN</td>\n",
       "    </tr>\n",
       "    <tr>\n",
       "      <th>3</th>\n",
       "      <td>f</td>\n",
       "      <td>NaN</td>\n",
       "      <td>f</td>\n",
       "      <td>NaN</td>\n",
       "      <td>f</td>\n",
       "      <td>NaN</td>\n",
       "      <td>f</td>\n",
       "      <td>NaN</td>\n",
       "      <td>f</td>\n",
       "      <td>NaN</td>\n",
       "      <td>f</td>\n",
       "      <td>NaN</td>\n",
       "    </tr>\n",
       "    <tr>\n",
       "      <th>4</th>\n",
       "      <td>t</td>\n",
       "      <td>2.2</td>\n",
       "      <td>t</td>\n",
       "      <td>1.7</td>\n",
       "      <td>t</td>\n",
       "      <td>115</td>\n",
       "      <td>t</td>\n",
       "      <td>0.98</td>\n",
       "      <td>t</td>\n",
       "      <td>118</td>\n",
       "      <td>f</td>\n",
       "      <td>NaN</td>\n",
       "    </tr>\n",
       "    <tr>\n",
       "      <th>5</th>\n",
       "      <td>t</td>\n",
       "      <td>1.4</td>\n",
       "      <td>t</td>\n",
       "      <td>1.4</td>\n",
       "      <td>t</td>\n",
       "      <td>115</td>\n",
       "      <td>t</td>\n",
       "      <td>0.97</td>\n",
       "      <td>t</td>\n",
       "      <td>118</td>\n",
       "      <td>f</td>\n",
       "      <td>NaN</td>\n",
       "    </tr>\n",
       "    <tr>\n",
       "      <th>6</th>\n",
       "      <td>f</td>\n",
       "      <td>NaN</td>\n",
       "      <td>f</td>\n",
       "      <td>NaN</td>\n",
       "      <td>f</td>\n",
       "      <td>NaN</td>\n",
       "      <td>f</td>\n",
       "      <td>NaN</td>\n",
       "      <td>f</td>\n",
       "      <td>NaN</td>\n",
       "      <td>f</td>\n",
       "      <td>NaN</td>\n",
       "    </tr>\n",
       "    <tr>\n",
       "      <th>7</th>\n",
       "      <td>t</td>\n",
       "      <td>1.4</td>\n",
       "      <td>t</td>\n",
       "      <td>1.4</td>\n",
       "      <td>t</td>\n",
       "      <td>90</td>\n",
       "      <td>t</td>\n",
       "      <td>0.91</td>\n",
       "      <td>t</td>\n",
       "      <td>100</td>\n",
       "      <td>f</td>\n",
       "      <td>NaN</td>\n",
       "    </tr>\n",
       "    <tr>\n",
       "      <th>8</th>\n",
       "      <td>t</td>\n",
       "      <td>0.5</td>\n",
       "      <td>t</td>\n",
       "      <td>3.2</td>\n",
       "      <td>t</td>\n",
       "      <td>137</td>\n",
       "      <td>t</td>\n",
       "      <td>1.16</td>\n",
       "      <td>t</td>\n",
       "      <td>119</td>\n",
       "      <td>f</td>\n",
       "      <td>NaN</td>\n",
       "    </tr>\n",
       "    <tr>\n",
       "      <th>9</th>\n",
       "      <td>t</td>\n",
       "      <td>0.55</td>\n",
       "      <td>f</td>\n",
       "      <td>NaN</td>\n",
       "      <td>t</td>\n",
       "      <td>180</td>\n",
       "      <td>t</td>\n",
       "      <td>1.05</td>\n",
       "      <td>t</td>\n",
       "      <td>172</td>\n",
       "      <td>f</td>\n",
       "      <td>NaN</td>\n",
       "    </tr>\n",
       "    <tr>\n",
       "      <th>10</th>\n",
       "      <td>t</td>\n",
       "      <td>0.26</td>\n",
       "      <td>f</td>\n",
       "      <td>NaN</td>\n",
       "      <td>t</td>\n",
       "      <td>120</td>\n",
       "      <td>t</td>\n",
       "      <td>1.06</td>\n",
       "      <td>t</td>\n",
       "      <td>114</td>\n",
       "      <td>f</td>\n",
       "      <td>NaN</td>\n",
       "    </tr>\n",
       "    <tr>\n",
       "      <th>11</th>\n",
       "      <td>t</td>\n",
       "      <td>0.62</td>\n",
       "      <td>t</td>\n",
       "      <td>1.7</td>\n",
       "      <td>t</td>\n",
       "      <td>116</td>\n",
       "      <td>t</td>\n",
       "      <td>1</td>\n",
       "      <td>t</td>\n",
       "      <td>116</td>\n",
       "      <td>f</td>\n",
       "      <td>NaN</td>\n",
       "    </tr>\n",
       "    <tr>\n",
       "      <th>12</th>\n",
       "      <td>t</td>\n",
       "      <td>0.9</td>\n",
       "      <td>t</td>\n",
       "      <td>2.4</td>\n",
       "      <td>t</td>\n",
       "      <td>123</td>\n",
       "      <td>t</td>\n",
       "      <td>0.99</td>\n",
       "      <td>t</td>\n",
       "      <td>125</td>\n",
       "      <td>f</td>\n",
       "      <td>NaN</td>\n",
       "    </tr>\n",
       "    <tr>\n",
       "      <th>13</th>\n",
       "      <td>t</td>\n",
       "      <td>0.015</td>\n",
       "      <td>t</td>\n",
       "      <td>5</td>\n",
       "      <td>t</td>\n",
       "      <td>244</td>\n",
       "      <td>t</td>\n",
       "      <td>0.67</td>\n",
       "      <td>t</td>\n",
       "      <td>362</td>\n",
       "      <td>f</td>\n",
       "      <td>NaN</td>\n",
       "    </tr>\n",
       "    <tr>\n",
       "      <th>14</th>\n",
       "      <td>t</td>\n",
       "      <td>1.7</td>\n",
       "      <td>f</td>\n",
       "      <td>NaN</td>\n",
       "      <td>t</td>\n",
       "      <td>138</td>\n",
       "      <td>t</td>\n",
       "      <td>1.21</td>\n",
       "      <td>t</td>\n",
       "      <td>115</td>\n",
       "      <td>f</td>\n",
       "      <td>NaN</td>\n",
       "    </tr>\n",
       "  </tbody>\n",
       "</table>\n",
       "</div>"
      ],
      "text/plain": [
       "   TSH_measured    TSH T3_measured   T3 TT4_measured  TT4 T4U_measured   T4U  \\\n",
       "0             t    1.3           t  1.8            t   96            t  1.06   \n",
       "1             t   0.33           t  1.8            t  134            t  0.97   \n",
       "2             t    3.4           f  NaN            t  104            t  0.94   \n",
       "3             f    NaN           f  NaN            f  NaN            f   NaN   \n",
       "4             t    2.2           t  1.7            t  115            t  0.98   \n",
       "5             t    1.4           t  1.4            t  115            t  0.97   \n",
       "6             f    NaN           f  NaN            f  NaN            f   NaN   \n",
       "7             t    1.4           t  1.4            t   90            t  0.91   \n",
       "8             t    0.5           t  3.2            t  137            t  1.16   \n",
       "9             t   0.55           f  NaN            t  180            t  1.05   \n",
       "10            t   0.26           f  NaN            t  120            t  1.06   \n",
       "11            t   0.62           t  1.7            t  116            t     1   \n",
       "12            t    0.9           t  2.4            t  123            t  0.99   \n",
       "13            t  0.015           t    5            t  244            t  0.67   \n",
       "14            t    1.7           f  NaN            t  138            t  1.21   \n",
       "\n",
       "   FTI_measured  FTI TBG_measured  TBG  \n",
       "0             t   90            f  NaN  \n",
       "1             t  138            f  NaN  \n",
       "2             t  112            f  NaN  \n",
       "3             f  NaN            f  NaN  \n",
       "4             t  118            f  NaN  \n",
       "5             t  118            f  NaN  \n",
       "6             f  NaN            f  NaN  \n",
       "7             t  100            f  NaN  \n",
       "8             t  119            f  NaN  \n",
       "9             t  172            f  NaN  \n",
       "10            t  114            f  NaN  \n",
       "11            t  116            f  NaN  \n",
       "12            t  125            f  NaN  \n",
       "13            t  362            f  NaN  \n",
       "14            t  115            f  NaN  "
      ]
     },
     "execution_count": 18,
     "metadata": {},
     "output_type": "execute_result"
    }
   ],
   "source": [
    "#Performing analysis of numerical column with its similar measured column \n",
    "data_2=data.copy()\n",
    "data_2=data_2[[\"TSH_measured\",\"TSH\",\"T3_measured\",\"T3\",\"TT4_measured\",\"TT4\",\"T4U_measured\",\"T4U\",\"FTI_measured\",\"FTI\",\"TBG_measured\",\"TBG\"]]\n",
    "data_2.head(15)"
   ]
  },
  {
   "cell_type": "markdown",
   "metadata": {},
   "source": [
    "The data shown above are having some NaN values in numerical columns and there is a relationship between the NaN and \"f\" category of similar measured column. So we will analyse the relationship and its category counts"
   ]
  },
  {
   "cell_type": "code",
   "execution_count": 19,
   "metadata": {},
   "outputs": [
    {
     "name": "stdout",
     "output_type": "stream",
     "text": [
      "T3_measured\n",
      "f       0\n",
      "t    2399\n",
      "Name: T3, dtype: int64\n"
     ]
    },
    {
     "data": {
      "image/png": "[encoded data removed]",
      "text/plain": [
       "<Figure size 432x216 with 1 Axes>"
      ]
     },
     "metadata": {},
     "output_type": "display_data"
    }
   ],
   "source": [
    "#Relationship between T3 with T3_measured\n",
    "grp_T3=data_2.groupby(\"T3_measured\")[\"T3\"].count()\n",
    "print(grp_T3)\n",
    "plt.figure(figsize=(6,3))\n",
    "grp_T3.plot.barh()\n",
    "plt.xlabel(\"T3\")\n",
    "plt.show()"
   ]
  },
  {
   "cell_type": "code",
   "execution_count": 20,
   "metadata": {},
   "outputs": [
    {
     "name": "stdout",
     "output_type": "stream",
     "text": [
      "TSH_measured\n",
      "f       0\n",
      "t    2721\n",
      "Name: TSH, dtype: int64\n"
     ]
    },
    {
     "data": {
      "image/png": "[encoded data removed]",
      "text/plain": [
       "<Figure size 432x216 with 1 Axes>"
      ]
     },
     "metadata": {},
     "output_type": "display_data"
    }
   ],
   "source": [
    "#Relationship between TSH with TSH_measured\n",
    "grp_TSH=data_2.groupby(\"TSH_measured\")[\"TSH\"].count()\n",
    "print(grp_TSH)\n",
    "plt.figure(figsize=(6,3))\n",
    "grp_TSH.plot.barh()\n",
    "plt.xlabel(\"TSH\")\n",
    "plt.show()"
   ]
  },
  {
   "cell_type": "code",
   "execution_count": 21,
   "metadata": {},
   "outputs": [
    {
     "name": "stdout",
     "output_type": "stream",
     "text": [
      "TT4_measured\n",
      "f       0\n",
      "t    2829\n",
      "Name: TT4, dtype: int64\n"
     ]
    },
    {
     "data": {
      "image/png": "[encoded data removed]",
      "text/plain": [
       "<Figure size 432x216 with 1 Axes>"
      ]
     },
     "metadata": {},
     "output_type": "display_data"
    }
   ],
   "source": [
    "#Relationship between TT4 with TT4_measured\n",
    "grp_TT4=data_2.groupby(\"TT4_measured\")[\"TT4\"].count()\n",
    "print(grp_TT4)\n",
    "plt.figure(figsize=(6,3))\n",
    "grp_TT4.plot.barh()\n",
    "plt.xlabel(\"TT4\")\n",
    "plt.show()"
   ]
  },
  {
   "cell_type": "code",
   "execution_count": 22,
   "metadata": {},
   "outputs": [
    {
     "name": "stdout",
     "output_type": "stream",
     "text": [
      "T4U_measured\n",
      "f       0\n",
      "t    2710\n",
      "Name: T4U, dtype: int64\n"
     ]
    },
    {
     "data": {
      "image/png": "[encoded data removed]",
      "text/plain": [
       "<Figure size 432x216 with 1 Axes>"
      ]
     },
     "metadata": {},
     "output_type": "display_data"
    }
   ],
   "source": [
    "#Relationship between T4U with T4U_measured\n",
    "grp_T4U=data_2.groupby(\"T4U_measured\")[\"T4U\"].count()\n",
    "print(grp_T4U)\n",
    "plt.figure(figsize=(6,3))\n",
    "grp_T4U.plot.barh()\n",
    "plt.xlabel(\"T4U\")\n",
    "plt.show()"
   ]
  },
  {
   "cell_type": "code",
   "execution_count": 23,
   "metadata": {},
   "outputs": [
    {
     "name": "stdout",
     "output_type": "stream",
     "text": [
      "FTI_measured\n",
      "f       0\n",
      "t    2712\n",
      "Name: FTI, dtype: int64\n"
     ]
    },
    {
     "data": {
      "image/png": "[encoded data removed]",
      "text/plain": [
       "<Figure size 432x216 with 1 Axes>"
      ]
     },
     "metadata": {},
     "output_type": "display_data"
    }
   ],
   "source": [
    "#Relationship between FTI with FTI_measured\n",
    "grp_FTI=data_2.groupby(\"FTI_measured\")[\"FTI\"].count()\n",
    "print(grp_FTI)\n",
    "plt.figure(figsize=(6,3))\n",
    "grp_FTI.plot.barh()\n",
    "plt.xlabel(\"FTI\")\n",
    "plt.show()"
   ]
  },
  {
   "cell_type": "code",
   "execution_count": 28,
   "metadata": {},
   "outputs": [
    {
     "data": {
      "text/plain": [
       "f    3017\n",
       "Name: TBG_measured, dtype: int64"
      ]
     },
     "execution_count": 28,
     "metadata": {},
     "output_type": "execute_result"
    }
   ],
   "source": [
    "#Incase of TBG_measured \n",
    "data_2[\"TBG_measured\"].value_counts()"
   ]
  },
  {
   "cell_type": "markdown",
   "metadata": {},
   "source": [
    "From all the above observation we can conclude that the respected columns the category \"f\" i.e False are not present or realted as NaN velues w.r.t numerical column. So we can drop the columns and the rest missing can be handled. In case of TGB all values are missing and TGB_measured has ony 1 unique value, hence it needs to be dropped"
   ]
  },
  {
   "cell_type": "markdown",
   "metadata": {},
   "source": [
    "# Feature Engineering"
   ]
  },
  {
   "cell_type": "code",
   "execution_count": 25,
   "metadata": {},
   "outputs": [],
   "source": [
    "#Replacing all categorical values where unqinue values are \"f\",\"t\",\"M\",\"F\" instead of One hot encoding\n",
    "#\"f\"=False,\"t\"=True, \"M\"=Male, \"F\"=Female\n",
    "data=data.replace({\"f\":0,\"t\":1,\"M\":0,\"F\":1})"
   ]
  },
  {
   "cell_type": "code",
   "execution_count": 26,
   "metadata": {},
   "outputs": [],
   "source": [
    "#Dropping the unwanted columns and Null column(TBG)\n",
    "data.drop([\"Unnamed: 0\",\"TSH_measured\",\"T3_measured\",\"TT4_measured\",\"T4U_measured\",\"FTI_measured\",\"TBG_measured\",\"TBG\"],axis=1, inplace=True)"
   ]
  },
  {
   "cell_type": "code",
   "execution_count": 27,
   "metadata": {},
   "outputs": [
    {
     "data": {
      "text/html": [
       "<div>\n",
       "<style scoped>\n",
       "    .dataframe tbody tr th:only-of-type {\n",
       "        vertical-align: middle;\n",
       "    }\n",
       "\n",
       "    .dataframe tbody tr th {\n",
       "        vertical-align: top;\n",
       "    }\n",
       "\n",
       "    .dataframe thead th {\n",
       "        text-align: right;\n",
       "    }\n",
       "</style>\n",
       "<table border=\"1\" class=\"dataframe\">\n",
       "  <thead>\n",
       "    <tr style=\"text-align: right;\">\n",
       "      <th></th>\n",
       "      <th>age</th>\n",
       "      <th>sex</th>\n",
       "      <th>on_thyroxine</th>\n",
       "      <th>query_on_thyroxine</th>\n",
       "      <th>on_antithyroid_medication</th>\n",
       "      <th>sick</th>\n",
       "      <th>pregnant</th>\n",
       "      <th>thyroid_surgery</th>\n",
       "      <th>I131_treatment</th>\n",
       "      <th>query_hypothyroid</th>\n",
       "      <th>query_hyperthyroid</th>\n",
       "      <th>lithium</th>\n",
       "      <th>goitre</th>\n",
       "      <th>tumor</th>\n",
       "      <th>hypopituitary</th>\n",
       "      <th>psych</th>\n",
       "      <th>TSH</th>\n",
       "      <th>T3</th>\n",
       "      <th>TT4</th>\n",
       "      <th>T4U</th>\n",
       "      <th>FTI</th>\n",
       "      <th>referral_source</th>\n",
       "      <th>Class</th>\n",
       "    </tr>\n",
       "  </thead>\n",
       "  <tbody>\n",
       "    <tr>\n",
       "      <th>0</th>\n",
       "      <td>74</td>\n",
       "      <td>0.0</td>\n",
       "      <td>0</td>\n",
       "      <td>0</td>\n",
       "      <td>0</td>\n",
       "      <td>0</td>\n",
       "      <td>0</td>\n",
       "      <td>0</td>\n",
       "      <td>0</td>\n",
       "      <td>0</td>\n",
       "      <td>0</td>\n",
       "      <td>0</td>\n",
       "      <td>0</td>\n",
       "      <td>0</td>\n",
       "      <td>0</td>\n",
       "      <td>1</td>\n",
       "      <td>1.3</td>\n",
       "      <td>1.8</td>\n",
       "      <td>96</td>\n",
       "      <td>1.06</td>\n",
       "      <td>90</td>\n",
       "      <td>SVHC</td>\n",
       "      <td>negative</td>\n",
       "    </tr>\n",
       "    <tr>\n",
       "      <th>1</th>\n",
       "      <td>75</td>\n",
       "      <td>1.0</td>\n",
       "      <td>0</td>\n",
       "      <td>0</td>\n",
       "      <td>0</td>\n",
       "      <td>0</td>\n",
       "      <td>0</td>\n",
       "      <td>0</td>\n",
       "      <td>0</td>\n",
       "      <td>0</td>\n",
       "      <td>0</td>\n",
       "      <td>0</td>\n",
       "      <td>0</td>\n",
       "      <td>0</td>\n",
       "      <td>0</td>\n",
       "      <td>0</td>\n",
       "      <td>0.33</td>\n",
       "      <td>1.8</td>\n",
       "      <td>134</td>\n",
       "      <td>0.97</td>\n",
       "      <td>138</td>\n",
       "      <td>other</td>\n",
       "      <td>negative</td>\n",
       "    </tr>\n",
       "    <tr>\n",
       "      <th>2</th>\n",
       "      <td>31</td>\n",
       "      <td>1.0</td>\n",
       "      <td>0</td>\n",
       "      <td>0</td>\n",
       "      <td>0</td>\n",
       "      <td>0</td>\n",
       "      <td>0</td>\n",
       "      <td>0</td>\n",
       "      <td>0</td>\n",
       "      <td>0</td>\n",
       "      <td>0</td>\n",
       "      <td>0</td>\n",
       "      <td>0</td>\n",
       "      <td>0</td>\n",
       "      <td>0</td>\n",
       "      <td>0</td>\n",
       "      <td>3.4</td>\n",
       "      <td>NaN</td>\n",
       "      <td>104</td>\n",
       "      <td>0.94</td>\n",
       "      <td>112</td>\n",
       "      <td>STMW</td>\n",
       "      <td>negative</td>\n",
       "    </tr>\n",
       "    <tr>\n",
       "      <th>3</th>\n",
       "      <td>34</td>\n",
       "      <td>1.0</td>\n",
       "      <td>0</td>\n",
       "      <td>0</td>\n",
       "      <td>0</td>\n",
       "      <td>0</td>\n",
       "      <td>0</td>\n",
       "      <td>0</td>\n",
       "      <td>0</td>\n",
       "      <td>0</td>\n",
       "      <td>0</td>\n",
       "      <td>0</td>\n",
       "      <td>0</td>\n",
       "      <td>0</td>\n",
       "      <td>0</td>\n",
       "      <td>0</td>\n",
       "      <td>NaN</td>\n",
       "      <td>NaN</td>\n",
       "      <td>NaN</td>\n",
       "      <td>NaN</td>\n",
       "      <td>NaN</td>\n",
       "      <td>other</td>\n",
       "      <td>negative</td>\n",
       "    </tr>\n",
       "    <tr>\n",
       "      <th>4</th>\n",
       "      <td>36</td>\n",
       "      <td>0.0</td>\n",
       "      <td>0</td>\n",
       "      <td>0</td>\n",
       "      <td>0</td>\n",
       "      <td>0</td>\n",
       "      <td>0</td>\n",
       "      <td>0</td>\n",
       "      <td>0</td>\n",
       "      <td>0</td>\n",
       "      <td>0</td>\n",
       "      <td>0</td>\n",
       "      <td>0</td>\n",
       "      <td>0</td>\n",
       "      <td>0</td>\n",
       "      <td>1</td>\n",
       "      <td>2.2</td>\n",
       "      <td>1.7</td>\n",
       "      <td>115</td>\n",
       "      <td>0.98</td>\n",
       "      <td>118</td>\n",
       "      <td>SVHC</td>\n",
       "      <td>negative</td>\n",
       "    </tr>\n",
       "  </tbody>\n",
       "</table>\n",
       "</div>"
      ],
      "text/plain": [
       "  age  sex  on_thyroxine  query_on_thyroxine  on_antithyroid_medication  sick  \\\n",
       "0  74  0.0             0                   0                          0     0   \n",
       "1  75  1.0             0                   0                          0     0   \n",
       "2  31  1.0             0                   0                          0     0   \n",
       "3  34  1.0             0                   0                          0     0   \n",
       "4  36  0.0             0                   0                          0     0   \n",
       "\n",
       "   pregnant  thyroid_surgery  I131_treatment  query_hypothyroid  \\\n",
       "0         0                0               0                  0   \n",
       "1         0                0               0                  0   \n",
       "2         0                0               0                  0   \n",
       "3         0                0               0                  0   \n",
       "4         0                0               0                  0   \n",
       "\n",
       "   query_hyperthyroid  lithium  goitre  tumor  hypopituitary  psych   TSH  \\\n",
       "0                   0        0       0      0              0      1   1.3   \n",
       "1                   0        0       0      0              0      0  0.33   \n",
       "2                   0        0       0      0              0      0   3.4   \n",
       "3                   0        0       0      0              0      0   NaN   \n",
       "4                   0        0       0      0              0      1   2.2   \n",
       "\n",
       "    T3  TT4   T4U  FTI referral_source     Class  \n",
       "0  1.8   96  1.06   90            SVHC  negative  \n",
       "1  1.8  134  0.97  138           other  negative  \n",
       "2  NaN  104  0.94  112            STMW  negative  \n",
       "3  NaN  NaN   NaN  NaN           other  negative  \n",
       "4  1.7  115  0.98  118            SVHC  negative  "
      ]
     },
     "execution_count": 27,
     "metadata": {},
     "output_type": "execute_result"
    }
   ],
   "source": [
    "data.head()"
   ]
  },
  {
   "cell_type": "code",
   "execution_count": 28,
   "metadata": {},
   "outputs": [
    {
     "data": {
      "text/plain": [
       "array(['SVHC', 'other', 'STMW', 'SVI', 'SVHD'], dtype=object)"
      ]
     },
     "execution_count": 28,
     "metadata": {},
     "output_type": "execute_result"
    }
   ],
   "source": [
    "##As referral_source column is Nominal Categorical data we will use One Hot Encoding\n",
    "data.referral_source.unique()"
   ]
  },
  {
   "cell_type": "code",
   "execution_count": 29,
   "metadata": {},
   "outputs": [],
   "source": [
    "#One hot encding\n",
    "data = pd.get_dummies(data, columns=['referral_source'])"
   ]
  },
  {
   "cell_type": "code",
   "execution_count": 31,
   "metadata": {},
   "outputs": [
    {
     "data": {
      "text/plain": [
       "negative                   2788\n",
       "compensated_hypothyroid     159\n",
       "primary_hypothyroid          69\n",
       "secondary_hypothyroid         1\n",
       "Name: Class, dtype: int64"
      ]
     },
     "execution_count": 31,
     "metadata": {},
     "output_type": "execute_result"
    }
   ],
   "source": [
    "# In case of Target column\n",
    "data.Class.value_counts()"
   ]
  },
  {
   "cell_type": "code",
   "execution_count": 32,
   "metadata": {},
   "outputs": [],
   "source": [
    "#The target column i.e Class has 4 categories and is Ordinal categorical data, so we will using Label Encoder function\n",
    "LblEnc = LabelEncoder()\n",
    "data.Class=LblEnc.fit_transform(data.Class)"
   ]
  },
  {
   "cell_type": "code",
   "execution_count": 33,
   "metadata": {},
   "outputs": [
    {
     "data": {
      "text/plain": [
       "1    2788\n",
       "0     159\n",
       "2      69\n",
       "3       1\n",
       "Name: Class, dtype: int64"
      ]
     },
     "execution_count": 33,
     "metadata": {},
     "output_type": "execute_result"
    }
   ],
   "source": [
    "#Count of categories\n",
    "data.Class.value_counts()"
   ]
  },
  {
   "cell_type": "code",
   "execution_count": 34,
   "metadata": {},
   "outputs": [
    {
     "data": {
      "text/html": [
       "<div>\n",
       "<style scoped>\n",
       "    .dataframe tbody tr th:only-of-type {\n",
       "        vertical-align: middle;\n",
       "    }\n",
       "\n",
       "    .dataframe tbody tr th {\n",
       "        vertical-align: top;\n",
       "    }\n",
       "\n",
       "    .dataframe thead th {\n",
       "        text-align: right;\n",
       "    }\n",
       "</style>\n",
       "<table border=\"1\" class=\"dataframe\">\n",
       "  <thead>\n",
       "    <tr style=\"text-align: right;\">\n",
       "      <th></th>\n",
       "      <th>age</th>\n",
       "      <th>sex</th>\n",
       "      <th>on_thyroxine</th>\n",
       "      <th>query_on_thyroxine</th>\n",
       "      <th>on_antithyroid_medication</th>\n",
       "      <th>sick</th>\n",
       "      <th>pregnant</th>\n",
       "      <th>thyroid_surgery</th>\n",
       "      <th>I131_treatment</th>\n",
       "      <th>query_hypothyroid</th>\n",
       "      <th>query_hyperthyroid</th>\n",
       "      <th>lithium</th>\n",
       "      <th>goitre</th>\n",
       "      <th>tumor</th>\n",
       "      <th>hypopituitary</th>\n",
       "      <th>psych</th>\n",
       "      <th>TSH</th>\n",
       "      <th>T3</th>\n",
       "      <th>TT4</th>\n",
       "      <th>T4U</th>\n",
       "      <th>FTI</th>\n",
       "      <th>Class</th>\n",
       "      <th>referral_source_STMW</th>\n",
       "      <th>referral_source_SVHC</th>\n",
       "      <th>referral_source_SVHD</th>\n",
       "      <th>referral_source_SVI</th>\n",
       "      <th>referral_source_other</th>\n",
       "    </tr>\n",
       "  </thead>\n",
       "  <tbody>\n",
       "    <tr>\n",
       "      <th>0</th>\n",
       "      <td>74</td>\n",
       "      <td>0.0</td>\n",
       "      <td>0</td>\n",
       "      <td>0</td>\n",
       "      <td>0</td>\n",
       "      <td>0</td>\n",
       "      <td>0</td>\n",
       "      <td>0</td>\n",
       "      <td>0</td>\n",
       "      <td>0</td>\n",
       "      <td>0</td>\n",
       "      <td>0</td>\n",
       "      <td>0</td>\n",
       "      <td>0</td>\n",
       "      <td>0</td>\n",
       "      <td>1</td>\n",
       "      <td>1.3</td>\n",
       "      <td>1.8</td>\n",
       "      <td>96</td>\n",
       "      <td>1.06</td>\n",
       "      <td>90</td>\n",
       "      <td>1</td>\n",
       "      <td>0</td>\n",
       "      <td>1</td>\n",
       "      <td>0</td>\n",
       "      <td>0</td>\n",
       "      <td>0</td>\n",
       "    </tr>\n",
       "    <tr>\n",
       "      <th>1</th>\n",
       "      <td>75</td>\n",
       "      <td>1.0</td>\n",
       "      <td>0</td>\n",
       "      <td>0</td>\n",
       "      <td>0</td>\n",
       "      <td>0</td>\n",
       "      <td>0</td>\n",
       "      <td>0</td>\n",
       "      <td>0</td>\n",
       "      <td>0</td>\n",
       "      <td>0</td>\n",
       "      <td>0</td>\n",
       "      <td>0</td>\n",
       "      <td>0</td>\n",
       "      <td>0</td>\n",
       "      <td>0</td>\n",
       "      <td>0.33</td>\n",
       "      <td>1.8</td>\n",
       "      <td>134</td>\n",
       "      <td>0.97</td>\n",
       "      <td>138</td>\n",
       "      <td>1</td>\n",
       "      <td>0</td>\n",
       "      <td>0</td>\n",
       "      <td>0</td>\n",
       "      <td>0</td>\n",
       "      <td>1</td>\n",
       "    </tr>\n",
       "    <tr>\n",
       "      <th>2</th>\n",
       "      <td>31</td>\n",
       "      <td>1.0</td>\n",
       "      <td>0</td>\n",
       "      <td>0</td>\n",
       "      <td>0</td>\n",
       "      <td>0</td>\n",
       "      <td>0</td>\n",
       "      <td>0</td>\n",
       "      <td>0</td>\n",
       "      <td>0</td>\n",
       "      <td>0</td>\n",
       "      <td>0</td>\n",
       "      <td>0</td>\n",
       "      <td>0</td>\n",
       "      <td>0</td>\n",
       "      <td>0</td>\n",
       "      <td>3.4</td>\n",
       "      <td>NaN</td>\n",
       "      <td>104</td>\n",
       "      <td>0.94</td>\n",
       "      <td>112</td>\n",
       "      <td>1</td>\n",
       "      <td>1</td>\n",
       "      <td>0</td>\n",
       "      <td>0</td>\n",
       "      <td>0</td>\n",
       "      <td>0</td>\n",
       "    </tr>\n",
       "    <tr>\n",
       "      <th>3</th>\n",
       "      <td>34</td>\n",
       "      <td>1.0</td>\n",
       "      <td>0</td>\n",
       "      <td>0</td>\n",
       "      <td>0</td>\n",
       "      <td>0</td>\n",
       "      <td>0</td>\n",
       "      <td>0</td>\n",
       "      <td>0</td>\n",
       "      <td>0</td>\n",
       "      <td>0</td>\n",
       "      <td>0</td>\n",
       "      <td>0</td>\n",
       "      <td>0</td>\n",
       "      <td>0</td>\n",
       "      <td>0</td>\n",
       "      <td>NaN</td>\n",
       "      <td>NaN</td>\n",
       "      <td>NaN</td>\n",
       "      <td>NaN</td>\n",
       "      <td>NaN</td>\n",
       "      <td>1</td>\n",
       "      <td>0</td>\n",
       "      <td>0</td>\n",
       "      <td>0</td>\n",
       "      <td>0</td>\n",
       "      <td>1</td>\n",
       "    </tr>\n",
       "    <tr>\n",
       "      <th>4</th>\n",
       "      <td>36</td>\n",
       "      <td>0.0</td>\n",
       "      <td>0</td>\n",
       "      <td>0</td>\n",
       "      <td>0</td>\n",
       "      <td>0</td>\n",
       "      <td>0</td>\n",
       "      <td>0</td>\n",
       "      <td>0</td>\n",
       "      <td>0</td>\n",
       "      <td>0</td>\n",
       "      <td>0</td>\n",
       "      <td>0</td>\n",
       "      <td>0</td>\n",
       "      <td>0</td>\n",
       "      <td>1</td>\n",
       "      <td>2.2</td>\n",
       "      <td>1.7</td>\n",
       "      <td>115</td>\n",
       "      <td>0.98</td>\n",
       "      <td>118</td>\n",
       "      <td>1</td>\n",
       "      <td>0</td>\n",
       "      <td>1</td>\n",
       "      <td>0</td>\n",
       "      <td>0</td>\n",
       "      <td>0</td>\n",
       "    </tr>\n",
       "  </tbody>\n",
       "</table>\n",
       "</div>"
      ],
      "text/plain": [
       "  age  sex  on_thyroxine  query_on_thyroxine  on_antithyroid_medication  sick  \\\n",
       "0  74  0.0             0                   0                          0     0   \n",
       "1  75  1.0             0                   0                          0     0   \n",
       "2  31  1.0             0                   0                          0     0   \n",
       "3  34  1.0             0                   0                          0     0   \n",
       "4  36  0.0             0                   0                          0     0   \n",
       "\n",
       "   pregnant  thyroid_surgery  I131_treatment  query_hypothyroid  \\\n",
       "0         0                0               0                  0   \n",
       "1         0                0               0                  0   \n",
       "2         0                0               0                  0   \n",
       "3         0                0               0                  0   \n",
       "4         0                0               0                  0   \n",
       "\n",
       "   query_hyperthyroid  lithium  goitre  tumor  hypopituitary  psych   TSH  \\\n",
       "0                   0        0       0      0              0      1   1.3   \n",
       "1                   0        0       0      0              0      0  0.33   \n",
       "2                   0        0       0      0              0      0   3.4   \n",
       "3                   0        0       0      0              0      0   NaN   \n",
       "4                   0        0       0      0              0      1   2.2   \n",
       "\n",
       "    T3  TT4   T4U  FTI  Class  referral_source_STMW  referral_source_SVHC  \\\n",
       "0  1.8   96  1.06   90      1                     0                     1   \n",
       "1  1.8  134  0.97  138      1                     0                     0   \n",
       "2  NaN  104  0.94  112      1                     1                     0   \n",
       "3  NaN  NaN   NaN  NaN      1                     0                     0   \n",
       "4  1.7  115  0.98  118      1                     0                     1   \n",
       "\n",
       "   referral_source_SVHD  referral_source_SVI  referral_source_other  \n",
       "0                     0                    0                      0  \n",
       "1                     0                    0                      1  \n",
       "2                     0                    0                      0  \n",
       "3                     0                    0                      1  \n",
       "4                     0                    0                      0  "
      ]
     },
     "execution_count": 34,
     "metadata": {},
     "output_type": "execute_result"
    }
   ],
   "source": [
    "data.head()"
   ]
  },
  {
   "cell_type": "code",
   "execution_count": 36,
   "metadata": {},
   "outputs": [
    {
     "name": "stdout",
     "output_type": "stream",
     "text": [
      "<class 'pandas.core.frame.DataFrame'>\n",
      "RangeIndex: 3017 entries, 0 to 3016\n",
      "Data columns (total 27 columns):\n",
      " #   Column                     Non-Null Count  Dtype  \n",
      "---  ------                     --------------  -----  \n",
      " 0   age                        3016 non-null   object \n",
      " 1   sex                        2901 non-null   float64\n",
      " 2   on_thyroxine               3017 non-null   int64  \n",
      " 3   query_on_thyroxine         3017 non-null   int64  \n",
      " 4   on_antithyroid_medication  3017 non-null   int64  \n",
      " 5   sick                       3017 non-null   int64  \n",
      " 6   pregnant                   3017 non-null   int64  \n",
      " 7   thyroid_surgery            3017 non-null   int64  \n",
      " 8   I131_treatment             3017 non-null   int64  \n",
      " 9   query_hypothyroid          3017 non-null   int64  \n",
      " 10  query_hyperthyroid         3017 non-null   int64  \n",
      " 11  lithium                    3017 non-null   int64  \n",
      " 12  goitre                     3017 non-null   int64  \n",
      " 13  tumor                      3017 non-null   int64  \n",
      " 14  hypopituitary              3017 non-null   int64  \n",
      " 15  psych                      3017 non-null   int64  \n",
      " 16  TSH                        2721 non-null   object \n",
      " 17  T3                         2399 non-null   object \n",
      " 18  TT4                        2829 non-null   object \n",
      " 19  T4U                        2710 non-null   object \n",
      " 20  FTI                        2712 non-null   object \n",
      " 21  Class                      3017 non-null   int32  \n",
      " 22  referral_source_STMW       3017 non-null   uint8  \n",
      " 23  referral_source_SVHC       3017 non-null   uint8  \n",
      " 24  referral_source_SVHD       3017 non-null   uint8  \n",
      " 25  referral_source_SVI        3017 non-null   uint8  \n",
      " 26  referral_source_other      3017 non-null   uint8  \n",
      "dtypes: float64(1), int32(1), int64(14), object(6), uint8(5)\n",
      "memory usage: 521.6+ KB\n"
     ]
    }
   ],
   "source": [
    "data.info()"
   ]
  },
  {
   "cell_type": "markdown",
   "metadata": {},
   "source": [
    "Now the data are converted to numeric but the some data types remains as object. So we are going to transform the data types of particular columns."
   ]
  },
  {
   "cell_type": "code",
   "execution_count": 37,
   "metadata": {},
   "outputs": [],
   "source": [
    "# Selecting columns with data type as 'object'\n",
    "columns = data.columns[data.dtypes==\"O\"]\n",
    "\n",
    "# Convert to numeric values\n",
    "data[columns] = data[columns].apply(pd.to_numeric, errors='coerce')"
   ]
  },
  {
   "cell_type": "markdown",
   "metadata": {},
   "source": [
    "#### Visualizing the patterns of the missing data columns"
   ]
  },
  {
   "cell_type": "code",
   "execution_count": 41,
   "metadata": {
    "scrolled": true
   },
   "outputs": [
    {
     "data": {
      "image/png": "[encoded data removed]",
      "text/plain": [
       "<Figure size 432x288 with 1 Axes>"
      ]
     },
     "metadata": {},
     "output_type": "display_data"
    },
    {
     "data": {
      "image/png": "[encoded data removed]",
      "text/plain": [
       "<Figure size 432x288 with 1 Axes>"
      ]
     },
     "metadata": {},
     "output_type": "display_data"
    },
    {
     "data": {
      "image/png": "[encoded data removed]",
      "text/plain": [
       "<Figure size 432x288 with 1 Axes>"
      ]
     },
     "metadata": {},
     "output_type": "display_data"
    },
    {
     "data": {
      "image/png": "[encoded data removed]",
      "text/plain": [
       "<Figure size 432x288 with 1 Axes>"
      ]
     },
     "metadata": {},
     "output_type": "display_data"
    },
    {
     "data": {
      "image/png": "[encoded data removed]",
      "text/plain": [
       "<Figure size 432x288 with 1 Axes>"
      ]
     },
     "metadata": {},
     "output_type": "display_data"
    },
    {
     "data": {
      "image/png": "[encoded data removed]",
      "text/plain": [
       "<Figure size 432x288 with 1 Axes>"
      ]
     },
     "metadata": {},
     "output_type": "display_data"
    },
    {
     "data": {
      "image/png": "[encoded data removed]",
      "text/plain": [
       "<Figure size 432x288 with 1 Axes>"
      ]
     },
     "metadata": {},
     "output_type": "display_data"
    }
   ],
   "source": [
    "# List of columns containing null values\n",
    "missing_col=data.columns[data.isnull().any()]\n",
    "\n",
    "#converting in list\n",
    "missing_col.to_list()\n",
    "\n",
    "#plotting\n",
    "for i in missing_col:\n",
    "    plt.style.use('fivethirtyeight')\n",
    "    data[i].plot.hist(bins=50)\n",
    "    plt.xlabel(i)\n",
    "    plt.ylabel(\"Count\")\n",
    "    plt.show()"
   ]
  },
  {
   "cell_type": "markdown",
   "metadata": {},
   "source": [
    "Based on the statistics plotted above, we can see that,\n",
    "\n",
    "-The features \"Age\" and \"T4U\" show a normal distribution, which is why we will be replacing the missing values with mean.\n",
    "\n",
    "-The features \"TSH\", \"T3\", \"TT4\" and \"FTI\" show a skewed distribution, which is why we will be replacing the missing values with median.\n",
    "\n",
    "-The feature \"gender\" is binary and contains an imbalanced data with the values \"1\" much greater then \"0\". So we will be replacing the missing values with \"0\"."
   ]
  },
  {
   "cell_type": "code",
   "execution_count": 38,
   "metadata": {},
   "outputs": [],
   "source": [
    "# Replacing null values by mean \n",
    "data['age'].fillna(data['age'].mean(), inplace = True)\n",
    "data['T4U'].fillna(data['T4U'].mean(), inplace = True)\n",
    "\n",
    "# Replacing null values by median\n",
    "data['TSH'].fillna(data['TSH'].mean(), inplace = True)\n",
    "data['T3'].fillna(data['T3'].median(), inplace = True)\n",
    "data['TT4'].fillna(data['TT4'].median(), inplace = True)\n",
    "data['FTI'].fillna(data['FTI'].median(), inplace = True)\n",
    "\n",
    "# The gender data looks to be imbalanced with 0 lesser than 1\n",
    "# Replacing null values with 0\n",
    "data['sex'].fillna(0, inplace = True)"
   ]
  },
  {
   "cell_type": "code",
   "execution_count": 39,
   "metadata": {},
   "outputs": [],
   "source": [
    "#From the distribution graphs above we observe the data are slightly skewed. Therefore inputing the continous data variables\n",
    "cont_data=['age', 'TSH', 'T3', 'TT4', 'T4U', 'FTI']"
   ]
  },
  {
   "cell_type": "code",
   "execution_count": 41,
   "metadata": {},
   "outputs": [
    {
     "data": {
      "text/plain": [
       "<matplotlib.axes._subplots.AxesSubplot at 0x216f9197a60>"
      ]
     },
     "execution_count": 41,
     "metadata": {},
     "output_type": "execute_result"
    },
    {
     "data": {
      "image/png": "[encoded data removed]",
      "text/plain": [
       "<Figure size 432x288 with 1 Axes>"
      ]
     },
     "metadata": {},
     "output_type": "display_data"
    }
   ],
   "source": [
    "#Checking Outliers of numerical column\n",
    "\n",
    "plt.style.use('fivethirtyeight')\n",
    "data[cont_data].boxplot(patch_artist=True)"
   ]
  },
  {
   "cell_type": "code",
   "execution_count": 42,
   "metadata": {},
   "outputs": [
    {
     "data": {
      "text/html": [
       "<div>\n",
       "<style scoped>\n",
       "    .dataframe tbody tr th:only-of-type {\n",
       "        vertical-align: middle;\n",
       "    }\n",
       "\n",
       "    .dataframe tbody tr th {\n",
       "        vertical-align: top;\n",
       "    }\n",
       "\n",
       "    .dataframe thead th {\n",
       "        text-align: right;\n",
       "    }\n",
       "</style>\n",
       "<table border=\"1\" class=\"dataframe\">\n",
       "  <thead>\n",
       "    <tr style=\"text-align: right;\">\n",
       "      <th></th>\n",
       "      <th>age</th>\n",
       "      <th>TSH</th>\n",
       "      <th>T3</th>\n",
       "      <th>TT4</th>\n",
       "      <th>T4U</th>\n",
       "      <th>FTI</th>\n",
       "    </tr>\n",
       "  </thead>\n",
       "  <tbody>\n",
       "    <tr>\n",
       "      <th>count</th>\n",
       "      <td>3017.000000</td>\n",
       "      <td>3017.000000</td>\n",
       "      <td>3017.000000</td>\n",
       "      <td>3017.000000</td>\n",
       "      <td>3017.000000</td>\n",
       "      <td>3017.000000</td>\n",
       "    </tr>\n",
       "    <tr>\n",
       "      <th>mean</th>\n",
       "      <td>51.681034</td>\n",
       "      <td>4.802810</td>\n",
       "      <td>2.015413</td>\n",
       "      <td>108.085549</td>\n",
       "      <td>0.995138</td>\n",
       "      <td>110.162048</td>\n",
       "    </tr>\n",
       "    <tr>\n",
       "      <th>std</th>\n",
       "      <td>20.258583</td>\n",
       "      <td>20.893998</td>\n",
       "      <td>0.733771</td>\n",
       "      <td>34.824879</td>\n",
       "      <td>0.186445</td>\n",
       "      <td>31.341377</td>\n",
       "    </tr>\n",
       "    <tr>\n",
       "      <th>min</th>\n",
       "      <td>1.000000</td>\n",
       "      <td>0.005000</td>\n",
       "      <td>0.100000</td>\n",
       "      <td>2.000000</td>\n",
       "      <td>0.360000</td>\n",
       "      <td>2.000000</td>\n",
       "    </tr>\n",
       "    <tr>\n",
       "      <th>25%</th>\n",
       "      <td>36.000000</td>\n",
       "      <td>0.600000</td>\n",
       "      <td>1.700000</td>\n",
       "      <td>89.000000</td>\n",
       "      <td>0.890000</td>\n",
       "      <td>94.000000</td>\n",
       "    </tr>\n",
       "    <tr>\n",
       "      <th>50%</th>\n",
       "      <td>54.000000</td>\n",
       "      <td>1.600000</td>\n",
       "      <td>2.000000</td>\n",
       "      <td>103.000000</td>\n",
       "      <td>0.995138</td>\n",
       "      <td>107.000000</td>\n",
       "    </tr>\n",
       "    <tr>\n",
       "      <th>75%</th>\n",
       "      <td>67.000000</td>\n",
       "      <td>3.700000</td>\n",
       "      <td>2.200000</td>\n",
       "      <td>122.000000</td>\n",
       "      <td>1.070000</td>\n",
       "      <td>121.000000</td>\n",
       "    </tr>\n",
       "    <tr>\n",
       "      <th>max</th>\n",
       "      <td>455.000000</td>\n",
       "      <td>478.000000</td>\n",
       "      <td>10.600000</td>\n",
       "      <td>430.000000</td>\n",
       "      <td>2.320000</td>\n",
       "      <td>395.000000</td>\n",
       "    </tr>\n",
       "  </tbody>\n",
       "</table>\n",
       "</div>"
      ],
      "text/plain": [
       "               age          TSH           T3          TT4          T4U  \\\n",
       "count  3017.000000  3017.000000  3017.000000  3017.000000  3017.000000   \n",
       "mean     51.681034     4.802810     2.015413   108.085549     0.995138   \n",
       "std      20.258583    20.893998     0.733771    34.824879     0.186445   \n",
       "min       1.000000     0.005000     0.100000     2.000000     0.360000   \n",
       "25%      36.000000     0.600000     1.700000    89.000000     0.890000   \n",
       "50%      54.000000     1.600000     2.000000   103.000000     0.995138   \n",
       "75%      67.000000     3.700000     2.200000   122.000000     1.070000   \n",
       "max     455.000000   478.000000    10.600000   430.000000     2.320000   \n",
       "\n",
       "               FTI  \n",
       "count  3017.000000  \n",
       "mean    110.162048  \n",
       "std      31.341377  \n",
       "min       2.000000  \n",
       "25%      94.000000  \n",
       "50%     107.000000  \n",
       "75%     121.000000  \n",
       "max     395.000000  "
      ]
     },
     "execution_count": 42,
     "metadata": {},
     "output_type": "execute_result"
    }
   ],
   "source": [
    "#Also understanding the statistical vies of numerical columns\n",
    "data[cont_data].describe()"
   ]
  },
  {
   "cell_type": "markdown",
   "metadata": {},
   "source": [
    "From the description above the difference between Min value and 25 percentile and Max value and 75 percentile is huge.\n",
    "\n",
    "First we need to verify what percentage of values are going and what are remaining outside lower and upper bridges."
   ]
  },
  {
   "cell_type": "markdown",
   "metadata": {},
   "source": [
    "In this case we will handle the oultiers with InterQuantile Range (IQR)"
   ]
  },
  {
   "cell_type": "code",
   "execution_count": 45,
   "metadata": {},
   "outputs": [
    {
     "name": "stdout",
     "output_type": "stream",
     "text": [
      "The respective Interquantile range  is: \n",
      "---------------------\n",
      "age    31.00\n",
      "TSH     3.10\n",
      "T3      0.50\n",
      "TT4    33.00\n",
      "T4U     0.18\n",
      "FTI    27.00\n",
      "dtype: float64\n",
      "The Lower bridge is: \n",
      "---------------------\n",
      "age   -10.50\n",
      "TSH    -4.05\n",
      "T3      0.95\n",
      "TT4    39.50\n",
      "T4U     0.62\n",
      "FTI    53.50\n",
      "dtype: float64\n",
      "The Upper bridge is: \n",
      "---------------------\n",
      "age    113.50\n",
      "TSH      8.35\n",
      "T3       2.95\n",
      "TT4    171.50\n",
      "T4U      1.34\n",
      "FTI    161.50\n",
      "dtype: float64\n"
     ]
    }
   ],
   "source": [
    "IQR=data[cont_data].quantile(0.75) - data[cont_data].quantile(0.25)   \n",
    "print(\"The respective Interquantile range  is: \\n---------------------\")\n",
    "print(IQR)\n",
    "\n",
    "##Same steps are followed : (IQR is multiplied with a constant to discern outlier)\n",
    "lower_bridge=data[cont_data].quantile(0.25) - (IQR*1.5)  \n",
    "upper_bridge=data[cont_data].quantile(0.75) + (IQR*1.5)\n",
    "print(\"The Lower bridge is: \\n---------------------\")\n",
    "print(lower_bridge)\n",
    "print(\"The Upper bridge is: \\n---------------------\")\n",
    "print(upper_bridge)"
   ]
  },
  {
   "cell_type": "code",
   "execution_count": 46,
   "metadata": {},
   "outputs": [],
   "source": [
    "##Replacing the Outlier with the Max Age value and Min value in respected Columns\n",
    "\n",
    "#Age (neglecting negative values in this case)\n",
    "data.loc[data.age>113.50,'age']=113.50 \n",
    "#TSH\n",
    "data.loc[data.TSH<-4.05,'age']=-4.05\n",
    "data.loc[data.TSH>8.35,'age']=8.35\n",
    "#T3\n",
    "data.loc[data.T3<0.95,'age']=0.95 \n",
    "data.loc[data.T3>2.95,'age']=2.95\n",
    "#TT4\n",
    "data.loc[data.TT4<39.50,'age']=39.50 \n",
    "data.loc[data.TT4>171.50,'age']=171.50\n",
    "#T4U\n",
    "data.loc[data.T4U<0.62,'age']=0.62 \n",
    "data.loc[data.T4U>1.34,'age']= 1.34\n",
    "#FTI\n",
    "data.loc[data.FTI<53.50,'age']=53.50 \n",
    "data.loc[data.FTI>161.50,'age']=161.50"
   ]
  },
  {
   "cell_type": "code",
   "execution_count": 47,
   "metadata": {
    "scrolled": true
   },
   "outputs": [
    {
     "data": {
      "image/png": "[encoded data removed]",
      "text/plain": [
       "<Figure size 432x288 with 1 Axes>"
      ]
     },
     "metadata": {},
     "output_type": "display_data"
    },
    {
     "data": {
      "image/png": "[encoded data removed]",
      "text/plain": [
       "<Figure size 432x288 with 1 Axes>"
      ]
     },
     "metadata": {},
     "output_type": "display_data"
    },
    {
     "data": {
      "image/png": "[encoded data removed]",
      "text/plain": [
       "<Figure size 432x288 with 1 Axes>"
      ]
     },
     "metadata": {},
     "output_type": "display_data"
    },
    {
     "data": {
      "image/png": "[encoded data removed]",
      "text/plain": [
       "<Figure size 432x288 with 1 Axes>"
      ]
     },
     "metadata": {},
     "output_type": "display_data"
    },
    {
     "data": {
      "image/png": "[encoded data removed]",
      "text/plain": [
       "<Figure size 432x288 with 1 Axes>"
      ]
     },
     "metadata": {},
     "output_type": "display_data"
    },
    {
     "data": {
      "image/png": "[encoded data removed]",
      "text/plain": [
       "<Figure size 432x288 with 1 Axes>"
      ]
     },
     "metadata": {},
     "output_type": "display_data"
    }
   ],
   "source": [
    "#Log Transforming the distribution into Gaussian distribution\n",
    "data[cont_data]=np.log(data[cont_data])\n",
    "\n",
    "for i in cont_data:\n",
    "    plt.style.use('fivethirtyeight')\n",
    "    data[i].plot.hist(bins=50)\n",
    "    plt.xlabel(i)\n",
    "    plt.ylabel(\"Count\")\n",
    "    plt.show()\n",
    "    plt.show()"
   ]
  },
  {
   "cell_type": "code",
   "execution_count": 48,
   "metadata": {},
   "outputs": [
    {
     "data": {
      "text/plain": [
       "(3017, 27)"
      ]
     },
     "execution_count": 48,
     "metadata": {},
     "output_type": "execute_result"
    }
   ],
   "source": [
    "#The final training dataset shape:\n",
    "data.shape"
   ]
  },
  {
   "cell_type": "markdown",
   "metadata": {},
   "source": [
    "Now let's see how balanced our dataset in terms of given target classes"
   ]
  },
  {
   "cell_type": "code",
   "execution_count": 49,
   "metadata": {},
   "outputs": [
    {
     "data": {
      "text/plain": [
       "<matplotlib.axes._subplots.AxesSubplot at 0x216f9509040>"
      ]
     },
     "execution_count": 49,
     "metadata": {},
     "output_type": "execute_result"
    },
    {
     "data": {
      "image/png": "[encoded data removed]",
      "text/plain": [
       "<Figure size 432x288 with 1 Axes>"
      ]
     },
     "metadata": {},
     "output_type": "display_data"
    }
   ],
   "source": [
    "plt.style.use('fivethirtyeight')\n",
    "sns.countplot(x=\"Class\",data=data,hue=\"Class\")"
   ]
  },
  {
   "cell_type": "markdown",
   "metadata": {},
   "source": [
    "We can clerly see that the dataset is highly imbalanced.\n",
    "\n",
    "We will use a python library known as imbalanced-learn to deal with imbalanced data. Imbalanced learn has an algorithm called RandomOverSampler which will handle such imbalnce data."
   ]
  },
  {
   "cell_type": "code",
   "execution_count": 51,
   "metadata": {},
   "outputs": [],
   "source": [
    "#Target column\n",
    "Y=data[[\"Class\"]]\n",
    "#Features columns\n",
    "features=[i for i in data.columns.to_list() if i not in [\"Class\"]]"
   ]
  },
  {
   "cell_type": "code",
   "execution_count": 52,
   "metadata": {},
   "outputs": [
    {
     "name": "stdout",
     "output_type": "stream",
     "text": [
      "(3017, 26) (3017, 1)\n"
     ]
    }
   ],
   "source": [
    "#shapes of features and target columns\n",
    "X=data[features]\n",
    "print(X.shape, Y.shape)"
   ]
  },
  {
   "cell_type": "code",
   "execution_count": 53,
   "metadata": {},
   "outputs": [],
   "source": [
    "#Applying Random Over Samplying from Imblearn module\n",
    "ros=RandomOverSampler()\n",
    "x_ros,y_ros=ros.fit_resample(X,Y)"
   ]
  },
  {
   "cell_type": "code",
   "execution_count": 54,
   "metadata": {},
   "outputs": [
    {
     "data": {
      "text/plain": [
       "((11152, 26), (11152, 1))"
      ]
     },
     "execution_count": 54,
     "metadata": {},
     "output_type": "execute_result"
    }
   ],
   "source": [
    "#The new shape of feature and target columns\n",
    "x_ros.shape,y_ros.shape"
   ]
  },
  {
   "cell_type": "code",
   "execution_count": 55,
   "metadata": {},
   "outputs": [
    {
     "data": {
      "text/plain": [
       "1    2788\n",
       "0     159\n",
       "2      69\n",
       "3       1\n",
       "Name: Class, dtype: int64"
      ]
     },
     "execution_count": 55,
     "metadata": {},
     "output_type": "execute_result"
    }
   ],
   "source": [
    "#Before Sampling\n",
    "Y[\"Class\"].value_counts()"
   ]
  },
  {
   "cell_type": "code",
   "execution_count": 56,
   "metadata": {},
   "outputs": [
    {
     "data": {
      "text/plain": [
       "0    2788\n",
       "1    2788\n",
       "2    2788\n",
       "3    2788\n",
       "Name: Class, dtype: int64"
      ]
     },
     "execution_count": 56,
     "metadata": {},
     "output_type": "execute_result"
    }
   ],
   "source": [
    "#After Sampling\n",
    "y_ros[\"Class\"].value_counts()"
   ]
  },
  {
   "cell_type": "markdown",
   "metadata": {},
   "source": [
    "# Feature Importance"
   ]
  },
  {
   "cell_type": "code",
   "execution_count": 54,
   "metadata": {},
   "outputs": [
    {
     "name": "stderr",
     "output_type": "stream",
     "text": [
      "<ipython-input-54-7ea6e2392e30>:4: DataConversionWarning: A column-vector y was passed when a 1d array was expected. Please change the shape of y to (n_samples,), for example using ravel().\n",
      "  f_selection.fit(x_ros,y_ros)\n"
     ]
    },
    {
     "data": {
      "text/plain": [
       "ExtraTreesRegressor()"
      ]
     },
     "execution_count": 54,
     "metadata": {},
     "output_type": "execute_result"
    }
   ],
   "source": [
    "#Finding important feature using Extra tree Regressor\n",
    "\n",
    "f_selection=ExtraTreesRegressor()\n",
    "f_selection.fit(x_ros,y_ros)"
   ]
  },
  {
   "cell_type": "code",
   "execution_count": 55,
   "metadata": {},
   "outputs": [
    {
     "name": "stdout",
     "output_type": "stream",
     "text": [
      "[3.72738197e-02 1.02727214e-02 7.56429012e-03 5.96924611e-05\n",
      " 3.45156085e-05 3.95546210e-04 3.93634453e-05 1.87649157e-03\n",
      " 4.74204543e-05 2.08551752e-01 1.68154223e-04 7.06883574e-05\n",
      " 3.59290364e-05 4.46049399e-04 1.36791754e-06 2.72413018e-04\n",
      " 2.61929732e-01 1.46134535e-02 3.24338801e-01 7.37058873e-03\n",
      " 1.08899699e-01 1.15188615e-02 3.94954793e-04 9.67779037e-05\n",
      " 1.14758127e-03 2.57933494e-03]\n"
     ]
    }
   ],
   "source": [
    "print(f_selection.feature_importances_) "
   ]
  },
  {
   "cell_type": "code",
   "execution_count": 56,
   "metadata": {},
   "outputs": [
    {
     "data": {
      "image/png": "[encoded data removed]",
      "text/plain": [
       "<Figure size 864x576 with 1 Axes>"
      ]
     },
     "metadata": {},
     "output_type": "display_data"
    }
   ],
   "source": [
    "#Plotting of 15 largest important features\n",
    "plt.figure(figsize=(12,8))\n",
    "\n",
    "feat_importances=pd.Series(f_selection.feature_importances_, index=X.columns)\n",
    "feat_importances.nlargest(15).plot(kind=\"barh\")\n",
    "plt.show()"
   ]
  },
  {
   "cell_type": "markdown",
   "metadata": {},
   "source": [
    "# Test Data"
   ]
  },
  {
   "cell_type": "markdown",
   "metadata": {},
   "source": [
    "For testing the test data will also be performed for data processing and to check the prediction whether the model is overfitted or not."
   ]
  },
  {
   "cell_type": "code",
   "execution_count": 57,
   "metadata": {},
   "outputs": [
    {
     "data": {
      "text/html": [
       "<div>\n",
       "<style scoped>\n",
       "    .dataframe tbody tr th:only-of-type {\n",
       "        vertical-align: middle;\n",
       "    }\n",
       "\n",
       "    .dataframe tbody tr th {\n",
       "        vertical-align: top;\n",
       "    }\n",
       "\n",
       "    .dataframe thead th {\n",
       "        text-align: right;\n",
       "    }\n",
       "</style>\n",
       "<table border=\"1\" class=\"dataframe\">\n",
       "  <thead>\n",
       "    <tr style=\"text-align: right;\">\n",
       "      <th></th>\n",
       "      <th>Unnamed: 0</th>\n",
       "      <th>age</th>\n",
       "      <th>sex</th>\n",
       "      <th>on_thyroxine</th>\n",
       "      <th>query_on_thyroxine</th>\n",
       "      <th>on_antithyroid_medication</th>\n",
       "      <th>sick</th>\n",
       "      <th>pregnant</th>\n",
       "      <th>thyroid_surgery</th>\n",
       "      <th>I131_treatment</th>\n",
       "      <th>query_hypothyroid</th>\n",
       "      <th>query_hyperthyroid</th>\n",
       "      <th>lithium</th>\n",
       "      <th>goitre</th>\n",
       "      <th>tumor</th>\n",
       "      <th>hypopituitary</th>\n",
       "      <th>psych</th>\n",
       "      <th>TSH_measured</th>\n",
       "      <th>TSH</th>\n",
       "      <th>T3_measured</th>\n",
       "      <th>T3</th>\n",
       "      <th>TT4_measured</th>\n",
       "      <th>TT4</th>\n",
       "      <th>T4U_measured</th>\n",
       "      <th>T4U</th>\n",
       "      <th>FTI_measured</th>\n",
       "      <th>FTI</th>\n",
       "      <th>TBG_measured</th>\n",
       "      <th>TBG</th>\n",
       "      <th>referral_source</th>\n",
       "      <th>Class</th>\n",
       "    </tr>\n",
       "  </thead>\n",
       "  <tbody>\n",
       "    <tr>\n",
       "      <th>0</th>\n",
       "      <td>2718</td>\n",
       "      <td>31</td>\n",
       "      <td>M</td>\n",
       "      <td>f</td>\n",
       "      <td>f</td>\n",
       "      <td>f</td>\n",
       "      <td>f</td>\n",
       "      <td>f</td>\n",
       "      <td>f</td>\n",
       "      <td>f</td>\n",
       "      <td>f</td>\n",
       "      <td>f</td>\n",
       "      <td>f</td>\n",
       "      <td>f</td>\n",
       "      <td>f</td>\n",
       "      <td>f</td>\n",
       "      <td>f</td>\n",
       "      <td>t</td>\n",
       "      <td>2.2</td>\n",
       "      <td>t</td>\n",
       "      <td>2.3</td>\n",
       "      <td>t</td>\n",
       "      <td>132</td>\n",
       "      <td>t</td>\n",
       "      <td>1.16</td>\n",
       "      <td>t</td>\n",
       "      <td>114</td>\n",
       "      <td>f</td>\n",
       "      <td>?</td>\n",
       "      <td>other</td>\n",
       "      <td>negative</td>\n",
       "    </tr>\n",
       "    <tr>\n",
       "      <th>1</th>\n",
       "      <td>3064</td>\n",
       "      <td>19</td>\n",
       "      <td>F</td>\n",
       "      <td>f</td>\n",
       "      <td>f</td>\n",
       "      <td>f</td>\n",
       "      <td>f</td>\n",
       "      <td>f</td>\n",
       "      <td>f</td>\n",
       "      <td>f</td>\n",
       "      <td>f</td>\n",
       "      <td>t</td>\n",
       "      <td>f</td>\n",
       "      <td>f</td>\n",
       "      <td>f</td>\n",
       "      <td>f</td>\n",
       "      <td>f</td>\n",
       "      <td>t</td>\n",
       "      <td>0.6</td>\n",
       "      <td>t</td>\n",
       "      <td>2.3</td>\n",
       "      <td>t</td>\n",
       "      <td>100</td>\n",
       "      <td>t</td>\n",
       "      <td>0.94</td>\n",
       "      <td>t</td>\n",
       "      <td>106</td>\n",
       "      <td>f</td>\n",
       "      <td>?</td>\n",
       "      <td>other</td>\n",
       "      <td>negative</td>\n",
       "    </tr>\n",
       "    <tr>\n",
       "      <th>2</th>\n",
       "      <td>3739</td>\n",
       "      <td>22</td>\n",
       "      <td>F</td>\n",
       "      <td>f</td>\n",
       "      <td>f</td>\n",
       "      <td>f</td>\n",
       "      <td>f</td>\n",
       "      <td>f</td>\n",
       "      <td>f</td>\n",
       "      <td>f</td>\n",
       "      <td>f</td>\n",
       "      <td>f</td>\n",
       "      <td>f</td>\n",
       "      <td>f</td>\n",
       "      <td>f</td>\n",
       "      <td>f</td>\n",
       "      <td>f</td>\n",
       "      <td>t</td>\n",
       "      <td>1.3</td>\n",
       "      <td>t</td>\n",
       "      <td>2.3</td>\n",
       "      <td>t</td>\n",
       "      <td>83</td>\n",
       "      <td>t</td>\n",
       "      <td>0.97</td>\n",
       "      <td>t</td>\n",
       "      <td>85</td>\n",
       "      <td>f</td>\n",
       "      <td>?</td>\n",
       "      <td>SVHC</td>\n",
       "      <td>negative</td>\n",
       "    </tr>\n",
       "    <tr>\n",
       "      <th>3</th>\n",
       "      <td>2731</td>\n",
       "      <td>48</td>\n",
       "      <td>F</td>\n",
       "      <td>t</td>\n",
       "      <td>f</td>\n",
       "      <td>f</td>\n",
       "      <td>f</td>\n",
       "      <td>f</td>\n",
       "      <td>f</td>\n",
       "      <td>f</td>\n",
       "      <td>f</td>\n",
       "      <td>f</td>\n",
       "      <td>t</td>\n",
       "      <td>f</td>\n",
       "      <td>f</td>\n",
       "      <td>f</td>\n",
       "      <td>f</td>\n",
       "      <td>t</td>\n",
       "      <td>1.5</td>\n",
       "      <td>t</td>\n",
       "      <td>2.5</td>\n",
       "      <td>t</td>\n",
       "      <td>101</td>\n",
       "      <td>t</td>\n",
       "      <td>0.97</td>\n",
       "      <td>t</td>\n",
       "      <td>104</td>\n",
       "      <td>f</td>\n",
       "      <td>?</td>\n",
       "      <td>SVHC</td>\n",
       "      <td>negative</td>\n",
       "    </tr>\n",
       "    <tr>\n",
       "      <th>4</th>\n",
       "      <td>2736</td>\n",
       "      <td>74</td>\n",
       "      <td>F</td>\n",
       "      <td>f</td>\n",
       "      <td>f</td>\n",
       "      <td>f</td>\n",
       "      <td>f</td>\n",
       "      <td>f</td>\n",
       "      <td>f</td>\n",
       "      <td>f</td>\n",
       "      <td>f</td>\n",
       "      <td>f</td>\n",
       "      <td>f</td>\n",
       "      <td>f</td>\n",
       "      <td>f</td>\n",
       "      <td>f</td>\n",
       "      <td>t</td>\n",
       "      <td>t</td>\n",
       "      <td>2.4</td>\n",
       "      <td>t</td>\n",
       "      <td>1.2</td>\n",
       "      <td>t</td>\n",
       "      <td>95</td>\n",
       "      <td>t</td>\n",
       "      <td>0.8</td>\n",
       "      <td>t</td>\n",
       "      <td>119</td>\n",
       "      <td>f</td>\n",
       "      <td>?</td>\n",
       "      <td>SVHC</td>\n",
       "      <td>negative</td>\n",
       "    </tr>\n",
       "  </tbody>\n",
       "</table>\n",
       "</div>"
      ],
      "text/plain": [
       "   Unnamed: 0  age sex on_thyroxine query_on_thyroxine  \\\n",
       "0        2718   31   M            f                  f   \n",
       "1        3064   19   F            f                  f   \n",
       "2        3739   22   F            f                  f   \n",
       "3        2731   48   F            t                  f   \n",
       "4        2736   74   F            f                  f   \n",
       "\n",
       "  on_antithyroid_medication sick pregnant thyroid_surgery I131_treatment  \\\n",
       "0                         f    f        f               f              f   \n",
       "1                         f    f        f               f              f   \n",
       "2                         f    f        f               f              f   \n",
       "3                         f    f        f               f              f   \n",
       "4                         f    f        f               f              f   \n",
       "\n",
       "  query_hypothyroid query_hyperthyroid lithium goitre tumor hypopituitary  \\\n",
       "0                 f                  f       f      f     f             f   \n",
       "1                 f                  t       f      f     f             f   \n",
       "2                 f                  f       f      f     f             f   \n",
       "3                 f                  f       t      f     f             f   \n",
       "4                 f                  f       f      f     f             f   \n",
       "\n",
       "  psych TSH_measured  TSH T3_measured   T3 TT4_measured  TT4 T4U_measured  \\\n",
       "0     f            t  2.2           t  2.3            t  132            t   \n",
       "1     f            t  0.6           t  2.3            t  100            t   \n",
       "2     f            t  1.3           t  2.3            t   83            t   \n",
       "3     f            t  1.5           t  2.5            t  101            t   \n",
       "4     t            t  2.4           t  1.2            t   95            t   \n",
       "\n",
       "    T4U FTI_measured  FTI TBG_measured TBG referral_source     Class  \n",
       "0  1.16            t  114            f   ?           other  negative  \n",
       "1  0.94            t  106            f   ?           other  negative  \n",
       "2  0.97            t   85            f   ?            SVHC  negative  \n",
       "3  0.97            t  104            f   ?            SVHC  negative  \n",
       "4   0.8            t  119            f   ?            SVHC  negative  "
      ]
     },
     "execution_count": 57,
     "metadata": {},
     "output_type": "execute_result"
    }
   ],
   "source": [
    "test_data=pd.read_csv(\"test.csv\")\n",
    "test_data.head()"
   ]
  },
  {
   "cell_type": "code",
   "execution_count": 58,
   "metadata": {},
   "outputs": [],
   "source": [
    "#Replacing '?' with NaN\n",
    "test_data=test_data.replace(\"?\",np.nan)"
   ]
  },
  {
   "cell_type": "code",
   "execution_count": 59,
   "metadata": {
    "scrolled": true
   },
   "outputs": [
    {
     "data": {
      "text/plain": [
       "Unnamed: 0                     0\n",
       "age                            0\n",
       "sex                           34\n",
       "on_thyroxine                   0\n",
       "query_on_thyroxine             0\n",
       "on_antithyroid_medication      0\n",
       "sick                           0\n",
       "pregnant                       0\n",
       "thyroid_surgery                0\n",
       "I131_treatment                 0\n",
       "query_hypothyroid              0\n",
       "query_hyperthyroid             0\n",
       "lithium                        0\n",
       "goitre                         0\n",
       "tumor                          0\n",
       "hypopituitary                  0\n",
       "psych                          0\n",
       "TSH_measured                   0\n",
       "TSH                           73\n",
       "T3_measured                    0\n",
       "T3                           151\n",
       "TT4_measured                   0\n",
       "TT4                           43\n",
       "T4U_measured                   0\n",
       "T4U                           80\n",
       "FTI_measured                   0\n",
       "FTI                           80\n",
       "TBG_measured                   0\n",
       "TBG                          755\n",
       "referral_source                0\n",
       "Class                          0\n",
       "dtype: int64"
      ]
     },
     "execution_count": 59,
     "metadata": {},
     "output_type": "execute_result"
    }
   ],
   "source": [
    "test_data.isnull().sum()"
   ]
  },
  {
   "cell_type": "code",
   "execution_count": 60,
   "metadata": {},
   "outputs": [],
   "source": [
    "#Labelling specified categories\n",
    "test_data=test_data.replace({\"f\":0,\"t\":1,\"M\":0,\"F\":1})"
   ]
  },
  {
   "cell_type": "code",
   "execution_count": 61,
   "metadata": {},
   "outputs": [],
   "source": [
    "#Dropping unnecessary columns\n",
    "test_data.drop([\"Unnamed: 0\",\"TSH_measured\",\"T3_measured\",\"TT4_measured\",\"T4U_measured\",\"FTI_measured\",\"TBG_measured\",\"TBG\"],axis=1, inplace=True)"
   ]
  },
  {
   "cell_type": "code",
   "execution_count": 62,
   "metadata": {},
   "outputs": [],
   "source": [
    "#One hot encoding on referral_source\n",
    "test_data = pd.get_dummies(test_data, columns=['referral_source'])"
   ]
  },
  {
   "cell_type": "code",
   "execution_count": 63,
   "metadata": {},
   "outputs": [],
   "source": [
    "#Transforming the test data with labels \n",
    "LblEnc = LabelEncoder()\n",
    "test_data.Class=LblEnc.fit_transform(test_data.Class)"
   ]
  },
  {
   "cell_type": "code",
   "execution_count": 64,
   "metadata": {},
   "outputs": [],
   "source": [
    "# Selecting columns with data type as 'object'\n",
    "columns = test_data.columns[test_data.dtypes==\"O\"]\n",
    "\n",
    "# Convert to numeric data-types\n",
    "test_data[columns] = test_data[columns].apply(pd.to_numeric, errors='coerce')"
   ]
  },
  {
   "cell_type": "code",
   "execution_count": 65,
   "metadata": {},
   "outputs": [],
   "source": [
    "# Replacing null values by mean \n",
    "test_data['age'].fillna(test_data['age'].mean(), inplace = True)\n",
    "test_data['T4U'].fillna(test_data['T4U'].mean(), inplace = True)\n",
    "\n",
    "# Replacing null values by median\n",
    "test_data['TSH'].fillna(test_data['TSH'].mean(), inplace = True)\n",
    "test_data['T3'].fillna(test_data['T3'].median(), inplace = True)\n",
    "test_data['TT4'].fillna(test_data['TT4'].median(), inplace = True)\n",
    "test_data['FTI'].fillna(test_data['FTI'].median(), inplace = True)\n",
    "\n",
    "# The gender data looks to be imbalanced with 0 lesser than 1\n",
    "# Replacing null values with 0\n",
    "test_data['sex'].fillna(0, inplace = True)"
   ]
  },
  {
   "cell_type": "code",
   "execution_count": 66,
   "metadata": {},
   "outputs": [],
   "source": [
    "#Seperating target column in test data\n",
    "Y_test=test_data[\"Class\"]\n",
    "\n",
    "#Selecting all independent columns\n",
    "test_data.drop([\"Class\"],axis=1,inplace=True)"
   ]
  },
  {
   "cell_type": "code",
   "execution_count": 68,
   "metadata": {},
   "outputs": [],
   "source": [
    "#Selecting all numerical columns\n",
    "test_cont_data=['age', 'TSH', 'T3', 'TT4', 'T4U', 'FTI']"
   ]
  },
  {
   "cell_type": "code",
   "execution_count": 69,
   "metadata": {},
   "outputs": [],
   "source": [
    "#Performing log transformation\n",
    "test_data[test_cont_data]=np.log(test_data[test_cont_data])"
   ]
  },
  {
   "cell_type": "code",
   "execution_count": 70,
   "metadata": {},
   "outputs": [
    {
     "data": {
      "text/plain": [
       "(755, 26)"
      ]
     },
     "execution_count": 70,
     "metadata": {},
     "output_type": "execute_result"
    }
   ],
   "source": [
    "#Final shape of test data\n",
    "test_data.shape"
   ]
  },
  {
   "cell_type": "code",
   "execution_count": 71,
   "metadata": {},
   "outputs": [
    {
     "data": {
      "text/html": [
       "<div>\n",
       "<style scoped>\n",
       "    .dataframe tbody tr th:only-of-type {\n",
       "        vertical-align: middle;\n",
       "    }\n",
       "\n",
       "    .dataframe tbody tr th {\n",
       "        vertical-align: top;\n",
       "    }\n",
       "\n",
       "    .dataframe thead th {\n",
       "        text-align: right;\n",
       "    }\n",
       "</style>\n",
       "<table border=\"1\" class=\"dataframe\">\n",
       "  <thead>\n",
       "    <tr style=\"text-align: right;\">\n",
       "      <th></th>\n",
       "      <th>age</th>\n",
       "      <th>sex</th>\n",
       "      <th>on_thyroxine</th>\n",
       "      <th>query_on_thyroxine</th>\n",
       "      <th>on_antithyroid_medication</th>\n",
       "      <th>sick</th>\n",
       "      <th>pregnant</th>\n",
       "      <th>thyroid_surgery</th>\n",
       "      <th>I131_treatment</th>\n",
       "      <th>query_hypothyroid</th>\n",
       "      <th>query_hyperthyroid</th>\n",
       "      <th>lithium</th>\n",
       "      <th>goitre</th>\n",
       "      <th>tumor</th>\n",
       "      <th>hypopituitary</th>\n",
       "      <th>psych</th>\n",
       "      <th>TSH</th>\n",
       "      <th>T3</th>\n",
       "      <th>TT4</th>\n",
       "      <th>T4U</th>\n",
       "      <th>FTI</th>\n",
       "      <th>referral_source_STMW</th>\n",
       "      <th>referral_source_SVHC</th>\n",
       "      <th>referral_source_SVHD</th>\n",
       "      <th>referral_source_SVI</th>\n",
       "      <th>referral_source_other</th>\n",
       "    </tr>\n",
       "  </thead>\n",
       "  <tbody>\n",
       "    <tr>\n",
       "      <th>0</th>\n",
       "      <td>3.433987</td>\n",
       "      <td>0.0</td>\n",
       "      <td>0</td>\n",
       "      <td>0</td>\n",
       "      <td>0</td>\n",
       "      <td>0</td>\n",
       "      <td>0</td>\n",
       "      <td>0</td>\n",
       "      <td>0</td>\n",
       "      <td>0</td>\n",
       "      <td>0</td>\n",
       "      <td>0</td>\n",
       "      <td>0</td>\n",
       "      <td>0</td>\n",
       "      <td>0</td>\n",
       "      <td>0</td>\n",
       "      <td>0.788457</td>\n",
       "      <td>0.832909</td>\n",
       "      <td>4.882802</td>\n",
       "      <td>0.148420</td>\n",
       "      <td>4.736198</td>\n",
       "      <td>0</td>\n",
       "      <td>0</td>\n",
       "      <td>0</td>\n",
       "      <td>0</td>\n",
       "      <td>1</td>\n",
       "    </tr>\n",
       "    <tr>\n",
       "      <th>1</th>\n",
       "      <td>2.944439</td>\n",
       "      <td>1.0</td>\n",
       "      <td>0</td>\n",
       "      <td>0</td>\n",
       "      <td>0</td>\n",
       "      <td>0</td>\n",
       "      <td>0</td>\n",
       "      <td>0</td>\n",
       "      <td>0</td>\n",
       "      <td>0</td>\n",
       "      <td>1</td>\n",
       "      <td>0</td>\n",
       "      <td>0</td>\n",
       "      <td>0</td>\n",
       "      <td>0</td>\n",
       "      <td>0</td>\n",
       "      <td>-0.510826</td>\n",
       "      <td>0.832909</td>\n",
       "      <td>4.605170</td>\n",
       "      <td>-0.061875</td>\n",
       "      <td>4.663439</td>\n",
       "      <td>0</td>\n",
       "      <td>0</td>\n",
       "      <td>0</td>\n",
       "      <td>0</td>\n",
       "      <td>1</td>\n",
       "    </tr>\n",
       "    <tr>\n",
       "      <th>2</th>\n",
       "      <td>3.091042</td>\n",
       "      <td>1.0</td>\n",
       "      <td>0</td>\n",
       "      <td>0</td>\n",
       "      <td>0</td>\n",
       "      <td>0</td>\n",
       "      <td>0</td>\n",
       "      <td>0</td>\n",
       "      <td>0</td>\n",
       "      <td>0</td>\n",
       "      <td>0</td>\n",
       "      <td>0</td>\n",
       "      <td>0</td>\n",
       "      <td>0</td>\n",
       "      <td>0</td>\n",
       "      <td>0</td>\n",
       "      <td>0.262364</td>\n",
       "      <td>0.832909</td>\n",
       "      <td>4.418841</td>\n",
       "      <td>-0.030459</td>\n",
       "      <td>4.442651</td>\n",
       "      <td>0</td>\n",
       "      <td>1</td>\n",
       "      <td>0</td>\n",
       "      <td>0</td>\n",
       "      <td>0</td>\n",
       "    </tr>\n",
       "    <tr>\n",
       "      <th>3</th>\n",
       "      <td>3.871201</td>\n",
       "      <td>1.0</td>\n",
       "      <td>1</td>\n",
       "      <td>0</td>\n",
       "      <td>0</td>\n",
       "      <td>0</td>\n",
       "      <td>0</td>\n",
       "      <td>0</td>\n",
       "      <td>0</td>\n",
       "      <td>0</td>\n",
       "      <td>0</td>\n",
       "      <td>1</td>\n",
       "      <td>0</td>\n",
       "      <td>0</td>\n",
       "      <td>0</td>\n",
       "      <td>0</td>\n",
       "      <td>0.405465</td>\n",
       "      <td>0.916291</td>\n",
       "      <td>4.615121</td>\n",
       "      <td>-0.030459</td>\n",
       "      <td>4.644391</td>\n",
       "      <td>0</td>\n",
       "      <td>1</td>\n",
       "      <td>0</td>\n",
       "      <td>0</td>\n",
       "      <td>0</td>\n",
       "    </tr>\n",
       "    <tr>\n",
       "      <th>4</th>\n",
       "      <td>4.304065</td>\n",
       "      <td>1.0</td>\n",
       "      <td>0</td>\n",
       "      <td>0</td>\n",
       "      <td>0</td>\n",
       "      <td>0</td>\n",
       "      <td>0</td>\n",
       "      <td>0</td>\n",
       "      <td>0</td>\n",
       "      <td>0</td>\n",
       "      <td>0</td>\n",
       "      <td>0</td>\n",
       "      <td>0</td>\n",
       "      <td>0</td>\n",
       "      <td>0</td>\n",
       "      <td>1</td>\n",
       "      <td>0.875469</td>\n",
       "      <td>0.182322</td>\n",
       "      <td>4.553877</td>\n",
       "      <td>-0.223144</td>\n",
       "      <td>4.779123</td>\n",
       "      <td>0</td>\n",
       "      <td>1</td>\n",
       "      <td>0</td>\n",
       "      <td>0</td>\n",
       "      <td>0</td>\n",
       "    </tr>\n",
       "  </tbody>\n",
       "</table>\n",
       "</div>"
      ],
      "text/plain": [
       "        age  sex  on_thyroxine  query_on_thyroxine  on_antithyroid_medication  \\\n",
       "0  3.433987  0.0             0                   0                          0   \n",
       "1  2.944439  1.0             0                   0                          0   \n",
       "2  3.091042  1.0             0                   0                          0   \n",
       "3  3.871201  1.0             1                   0                          0   \n",
       "4  4.304065  1.0             0                   0                          0   \n",
       "\n",
       "   sick  pregnant  thyroid_surgery  I131_treatment  query_hypothyroid  \\\n",
       "0     0         0                0               0                  0   \n",
       "1     0         0                0               0                  0   \n",
       "2     0         0                0               0                  0   \n",
       "3     0         0                0               0                  0   \n",
       "4     0         0                0               0                  0   \n",
       "\n",
       "   query_hyperthyroid  lithium  goitre  tumor  hypopituitary  psych       TSH  \\\n",
       "0                   0        0       0      0              0      0  0.788457   \n",
       "1                   1        0       0      0              0      0 -0.510826   \n",
       "2                   0        0       0      0              0      0  0.262364   \n",
       "3                   0        1       0      0              0      0  0.405465   \n",
       "4                   0        0       0      0              0      1  0.875469   \n",
       "\n",
       "         T3       TT4       T4U       FTI  referral_source_STMW  \\\n",
       "0  0.832909  4.882802  0.148420  4.736198                     0   \n",
       "1  0.832909  4.605170 -0.061875  4.663439                     0   \n",
       "2  0.832909  4.418841 -0.030459  4.442651                     0   \n",
       "3  0.916291  4.615121 -0.030459  4.644391                     0   \n",
       "4  0.182322  4.553877 -0.223144  4.779123                     0   \n",
       "\n",
       "   referral_source_SVHC  referral_source_SVHD  referral_source_SVI  \\\n",
       "0                     0                     0                    0   \n",
       "1                     0                     0                    0   \n",
       "2                     1                     0                    0   \n",
       "3                     1                     0                    0   \n",
       "4                     1                     0                    0   \n",
       "\n",
       "   referral_source_other  \n",
       "0                      1  \n",
       "1                      1  \n",
       "2                      0  \n",
       "3                      0  \n",
       "4                      0  "
      ]
     },
     "execution_count": 71,
     "metadata": {},
     "output_type": "execute_result"
    }
   ],
   "source": [
    "test_data.head()"
   ]
  },
  {
   "cell_type": "markdown",
   "metadata": {},
   "source": [
    "## Stacked Generalization (Stacking)\n",
    "\n",
    "Stacking is a type of ensemble technique which combines the predictions of two or more models, also called base models, and use the combination as the input for a new model (meta-model) i.e. a new model is trained on the predictions of the base models. "
   ]
  },
  {
   "cell_type": "markdown",
   "metadata": {},
   "source": [
    "We are going to perform this process for training the data predict the outcome \"Class\""
   ]
  },
  {
   "cell_type": "markdown",
   "metadata": {},
   "source": [
    "# Spliting Data"
   ]
  },
  {
   "cell_type": "code",
   "execution_count": 72,
   "metadata": {},
   "outputs": [],
   "source": [
    "# let's divide our dataset into training set and hold out set by 50%\n",
    "train,val_train,test,val_test = train_test_split(x_ros,y_ros,test_size=0.5, random_state= 355)"
   ]
  },
  {
   "cell_type": "code",
   "execution_count": 73,
   "metadata": {},
   "outputs": [],
   "source": [
    "# Again let's split the training set again into training and test dataset \n",
    "x_train,x_test,y_train,y_test =  train_test_split(train,test,test_size=0.2, random_state= 355)"
   ]
  },
  {
   "cell_type": "markdown",
   "metadata": {},
   "source": [
    "We will use to base models K-Nearest Neighbors and Support Vector Classifier. Then we are going to stack the predicted training set to fit in the meta model i.e Random Forrest. The accuracy of meta model will be measured and tuned for optimum output"
   ]
  },
  {
   "cell_type": "code",
   "execution_count": 75,
   "metadata": {},
   "outputs": [
    {
     "name": "stderr",
     "output_type": "stream",
     "text": [
      "C:\\Users\\User\\anaconda3\\lib\\site-packages\\sklearn\\neighbors\\_classification.py:179: DataConversionWarning: A column-vector y was passed when a 1d array was expected. Please change the shape of y to (n_samples,), for example using ravel().\n",
      "  return self._fit(X, y)\n"
     ]
    },
    {
     "name": "stdout",
     "output_type": "stream",
     "text": [
      "The accuracy score of training set: 0.9899103139013453\n",
      "The accuracy score of test set: 0.9910394265232975\n"
     ]
    }
   ],
   "source": [
    "##Using K-Nearest Neighbors Classifier (Base1 model)\n",
    "knn = KNeighborsClassifier()\n",
    "\n",
    "knn.fit(x_train,y_train)\n",
    "print(f\"The accuracy score of training set: {knn.score(x_train,y_train)}\")\n",
    "print(f\"The accuracy score of test set: {knn.score(x_test,y_test)}\")"
   ]
  },
  {
   "cell_type": "code",
   "execution_count": 76,
   "metadata": {},
   "outputs": [
    {
     "name": "stderr",
     "output_type": "stream",
     "text": [
      "C:\\Users\\User\\anaconda3\\lib\\site-packages\\sklearn\\utils\\validation.py:63: DataConversionWarning: A column-vector y was passed when a 1d array was expected. Please change the shape of y to (n_samples, ), for example using ravel().\n",
      "  return f(*args, **kwargs)\n"
     ]
    },
    {
     "name": "stdout",
     "output_type": "stream",
     "text": [
      "The accuracy score of training set: 0.9748878923766816\n",
      "The accuracy score of test set: 0.9802867383512545\n"
     ]
    }
   ],
   "source": [
    "#Using Support Vector Classifier\n",
    "svm = SVC()\n",
    "\n",
    "svm.fit(x_train,y_train)\n",
    "print(f\"The accuracy score of training set: {svm.score(x_train,y_train)}\")\n",
    "print(f\"The accuracy score of test set: {svm.score(x_test,y_test)}\")"
   ]
  },
  {
   "cell_type": "markdown",
   "metadata": {},
   "source": [
    "Let's get the predictions of all the base models on the validation set val_train."
   ]
  },
  {
   "cell_type": "code",
   "execution_count": 77,
   "metadata": {},
   "outputs": [],
   "source": [
    "#Prediction for Base 1 model\n",
    "predict_val1 = knn.predict(val_train)\n",
    "#Perdiction for Base 2 model\n",
    "predict_val2 = svm.predict(val_train)"
   ]
  },
  {
   "cell_type": "markdown",
   "metadata": {},
   "source": [
    "Let's stack the prediciton values for validation set together as \"predict_val\""
   ]
  },
  {
   "cell_type": "code",
   "execution_count": 78,
   "metadata": {},
   "outputs": [
    {
     "data": {
      "text/plain": [
       "array([[2, 2],\n",
       "       [2, 2],\n",
       "       [2, 2],\n",
       "       ...,\n",
       "       [1, 1],\n",
       "       [0, 1],\n",
       "       [1, 1]])"
      ]
     },
     "execution_count": 78,
     "metadata": {},
     "output_type": "execute_result"
    }
   ],
   "source": [
    "#Stacking\n",
    "predict_val = np.column_stack((predict_val1,predict_val2))\n",
    "predict_val"
   ]
  },
  {
   "cell_type": "markdown",
   "metadata": {},
   "source": [
    "Let's get the prediction for all the base models on the test set  x_test"
   ]
  },
  {
   "cell_type": "code",
   "execution_count": 80,
   "metadata": {},
   "outputs": [],
   "source": [
    "#Prediction for Base 1 test set\n",
    "predict_test1 = knn.predict(x_test)\n",
    "#Prediction for Base 2 test set\n",
    "predict_test2 = svm.predict(x_test)"
   ]
  },
  {
   "cell_type": "markdown",
   "metadata": {},
   "source": [
    "Let's stack the prediciton values for validation set together as \"predict_test\""
   ]
  },
  {
   "cell_type": "code",
   "execution_count": 81,
   "metadata": {},
   "outputs": [
    {
     "data": {
      "text/plain": [
       "array([[3, 3],\n",
       "       [0, 0],\n",
       "       [1, 1],\n",
       "       ...,\n",
       "       [0, 0],\n",
       "       [1, 1],\n",
       "       [2, 2]])"
      ]
     },
     "execution_count": 81,
     "metadata": {},
     "output_type": "execute_result"
    }
   ],
   "source": [
    "#Stacking\n",
    "predict_test = np.column_stack((predict_test1,predict_test2))\n",
    "predict_test"
   ]
  },
  {
   "cell_type": "markdown",
   "metadata": {},
   "source": [
    "Let's use the Use the stacked data \"predict_val\" and val_test as the input feature for meta_model i.e. RandomForest classifier"
   ]
  },
  {
   "cell_type": "code",
   "execution_count": 83,
   "metadata": {},
   "outputs": [
    {
     "name": "stderr",
     "output_type": "stream",
     "text": [
      "<ipython-input-83-10055a59f197>:4: DataConversionWarning: A column-vector y was passed when a 1d array was expected. Please change the shape of y to (n_samples,), for example using ravel().\n",
      "  rand_clf.fit(predict_val,val_test)\n"
     ]
    },
    {
     "data": {
      "text/plain": [
       "RandomForestClassifier()"
      ]
     },
     "execution_count": 83,
     "metadata": {},
     "output_type": "execute_result"
    }
   ],
   "source": [
    "#Using RandomForrest Classifier as meta model\n",
    "rand_clf = RandomForestClassifier()\n",
    "\n",
    "rand_clf.fit(predict_val,val_test)"
   ]
  },
  {
   "cell_type": "markdown",
   "metadata": {},
   "source": [
    "Let's check the accuracy of our meta_model using predict_test and y_test."
   ]
  },
  {
   "cell_type": "code",
   "execution_count": 84,
   "metadata": {},
   "outputs": [
    {
     "name": "stdout",
     "output_type": "stream",
     "text": [
      "The accuracy score of stacked_train set: 0.9919296987087518\n",
      "The accuracy score of test set: 0.9955197132616488\n"
     ]
    }
   ],
   "source": [
    "print(f\"The accuracy score of stacked_train set: {rand_clf.score(predict_val,val_test)}\")\n",
    "print(f\"The accuracy score of test set: {rand_clf.score(predict_test,y_test)}\")"
   ]
  },
  {
   "cell_type": "markdown",
   "metadata": {},
   "source": [
    "Creating pickle file for models"
   ]
  },
  {
   "cell_type": "code",
   "execution_count": 85,
   "metadata": {},
   "outputs": [],
   "source": [
    "#Base models\n",
    "file=open(\"SupportVector_clf.pkl\", \"wb\")\n",
    "pickle.dump(svm, file)\n",
    "\n",
    "file=open(\"KNN.pkl\", \"wb\")\n",
    "pickle.dump(knn, file)\n",
    "\n",
    "#Meta model\n",
    "file=open(\"RandomForest_clf.pkl\", \"wb\")\n",
    "pickle.dump(rand_clf, file)"
   ]
  },
  {
   "cell_type": "markdown",
   "metadata": {},
   "source": [
    "# Hyperparameter tuning the meta-model"
   ]
  },
  {
   "cell_type": "code",
   "execution_count": 86,
   "metadata": {},
   "outputs": [],
   "source": [
    "# we are tuning three hyperparameters right now, we are passing the different values for both parameters\n",
    "grid_param = {\n",
    "    \"n_estimators\" : [90,100,115],\n",
    "    'criterion': ['gini', 'entropy'],\n",
    "    'min_samples_leaf' : [1,2,3,4,5],\n",
    "    'min_samples_split': [4,5,6,7,8],\n",
    "    'max_features' : ['auto','log2']\n",
    "}"
   ]
  },
  {
   "cell_type": "code",
   "execution_count": 87,
   "metadata": {},
   "outputs": [],
   "source": [
    "grid_search = GridSearchCV(estimator=rand_clf,param_grid=grid_param,\n",
    "                           cv=5,n_jobs =-1,verbose = 3)"
   ]
  },
  {
   "cell_type": "code",
   "execution_count": 105,
   "metadata": {},
   "outputs": [
    {
     "name": "stdout",
     "output_type": "stream",
     "text": [
      "Fitting 5 folds for each of 300 candidates, totalling 1500 fits\n"
     ]
    },
    {
     "name": "stderr",
     "output_type": "stream",
     "text": [
      "C:\\Users\\User\\anaconda3\\lib\\site-packages\\sklearn\\model_selection\\_search.py:880: DataConversionWarning: A column-vector y was passed when a 1d array was expected. Please change the shape of y to (n_samples,), for example using ravel().\n",
      "  self.best_estimator_.fit(X, y, **fit_params)\n"
     ]
    },
    {
     "data": {
      "text/plain": [
       "GridSearchCV(cv=5, estimator=RandomForestClassifier(), n_jobs=-1,\n",
       "             param_grid={'criterion': ['gini', 'entropy'],\n",
       "                         'max_features': ['auto', 'log2'],\n",
       "                         'min_samples_leaf': [1, 2, 3, 4, 5],\n",
       "                         'min_samples_split': [4, 5, 6, 7, 8],\n",
       "                         'n_estimators': [90, 100, 115]},\n",
       "             verbose=3)"
      ]
     },
     "execution_count": 105,
     "metadata": {},
     "output_type": "execute_result"
    }
   ],
   "source": [
    "grid_search.fit(predict_val,val_test)"
   ]
  },
  {
   "cell_type": "code",
   "execution_count": 106,
   "metadata": {},
   "outputs": [
    {
     "data": {
      "text/plain": [
       "{'criterion': 'entropy',\n",
       " 'max_features': 'log2',\n",
       " 'min_samples_leaf': 2,\n",
       " 'min_samples_split': 5,\n",
       " 'n_estimators': 100}"
      ]
     },
     "execution_count": 106,
     "metadata": {},
     "output_type": "execute_result"
    }
   ],
   "source": [
    "#Loading for the best parameters\n",
    "grid_search.best_params_"
   ]
  },
  {
   "cell_type": "code",
   "execution_count": 107,
   "metadata": {},
   "outputs": [],
   "source": [
    "rand_clf_tuned = RandomForestClassifier( criterion='entropy',max_features = 'log2',min_samples_leaf =2,min_samples_split= 5,n_estimators =100)"
   ]
  },
  {
   "cell_type": "code",
   "execution_count": 108,
   "metadata": {},
   "outputs": [
    {
     "name": "stderr",
     "output_type": "stream",
     "text": [
      "<ipython-input-108-9a789d11c1b4>:1: DataConversionWarning: A column-vector y was passed when a 1d array was expected. Please change the shape of y to (n_samples,), for example using ravel().\n",
      "  rand_clf_tuned.fit(predict_val,val_test)\n"
     ]
    },
    {
     "data": {
      "text/plain": [
       "RandomForestClassifier(criterion='entropy', max_features='log2',\n",
       "                       min_samples_leaf=2, min_samples_split=5)"
      ]
     },
     "execution_count": 108,
     "metadata": {},
     "output_type": "execute_result"
    }
   ],
   "source": [
    "#Fiting the data into model with optimum parameters\n",
    "rand_clf_tuned.fit(predict_val,val_test)"
   ]
  },
  {
   "cell_type": "code",
   "execution_count": 88,
   "metadata": {},
   "outputs": [
    {
     "name": "stdout",
     "output_type": "stream",
     "text": [
      "The accuracy score after tuning the meta model: 0.9955197132616488\n"
     ]
    }
   ],
   "source": [
    "print(f\"The accuracy score after tuning the meta model: {rand_clf.score(predict_test,y_test)}\")"
   ]
  },
  {
   "cell_type": "code",
   "execution_count": 110,
   "metadata": {},
   "outputs": [],
   "source": [
    "#Dumping the tuned model in pickle file\n",
    "file=open(\"RandomForest_tuned.pkl\", \"wb\")\n",
    "pickle.dump(rand_clf_tuned, file)"
   ]
  },
  {
   "cell_type": "code",
   "execution_count": 89,
   "metadata": {},
   "outputs": [],
   "source": [
    "#Loading base models\n",
    "base1=open(\"KNN.pkl\", \"rb\")\n",
    "knn_base=pickle.load(base1)\n",
    "\n",
    "base2=open(\"SupportVector_clf.pkl\", \"rb\")\n",
    "svm_base=pickle.load(base2)\n",
    "\n",
    "meta_model=open(\"RandomForest_clf.pkl\",\"rb\")\n",
    "r_forest=pickle.load(meta_model)"
   ]
  },
  {
   "cell_type": "markdown",
   "metadata": {},
   "source": [
    "# Prediction with test data set"
   ]
  },
  {
   "cell_type": "code",
   "execution_count": 91,
   "metadata": {},
   "outputs": [],
   "source": [
    "#Similar steps need to perform \n",
    "#Predicting for Base 1 model\n",
    "knn_pred=knn_base.predict(test_data)\n",
    "#Predicting for Base 2 model\n",
    "svm_pred=svm_base.predict(test_data)"
   ]
  },
  {
   "cell_type": "code",
   "execution_count": 92,
   "metadata": {},
   "outputs": [],
   "source": [
    "#Stacking\n",
    "predict_test_data = np.column_stack((knn_pred,svm_pred))"
   ]
  },
  {
   "cell_type": "code",
   "execution_count": 95,
   "metadata": {},
   "outputs": [
    {
     "name": "stdout",
     "output_type": "stream",
     "text": [
      "The final accuracy score for test data: 0.9112582781456954\n"
     ]
    }
   ],
   "source": [
    "print(f\"The final accuracy score for test data: {r_forest.score(predict_test_data,Y_test)}\")"
   ]
  },
  {
   "cell_type": "markdown",
   "metadata": {},
   "source": [
    "# Conclusion "
   ]
  },
  {
   "cell_type": "markdown",
   "metadata": {},
   "source": [
    "The meta model after stacking with base models has given a accuracy of 91.1% for test data set avoiding overfitting."
   ]
  }
 ],
 "metadata": {
  "kernelspec": {
   "display_name": "Python 3",
   "language": "python",
   "name": "python3"
  },
  "language_info": {
   "codemirror_mode": {
    "name": "ipython",
    "version": 3
   },
   "file_extension": ".py",
   "mimetype": "text/x-python",
   "name": "python",
   "nbconvert_exporter": "python",
   "pygments_lexer": "ipython3",
   "version": "3.8.3"
  }
 },
 "nbformat": 4,
 "nbformat_minor": 4
}
